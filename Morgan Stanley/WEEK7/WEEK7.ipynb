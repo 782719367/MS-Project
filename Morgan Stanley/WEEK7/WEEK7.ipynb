{
 "cells": [
  {
   "cell_type": "code",
   "execution_count": 1,
   "id": "initial_id",
   "metadata": {
    "is_executing": true
   },
   "outputs": [
    {
     "ename": "ModuleNotFoundError",
     "evalue": "No module named 'tushare'",
     "output_type": "error",
     "traceback": [
      "\u001b[0;31m---------------------------------------------------------------------------\u001b[0m",
      "\u001b[0;31mModuleNotFoundError\u001b[0m                       Traceback (most recent call last)",
      "Input \u001b[0;32mIn [1]\u001b[0m, in \u001b[0;36m<cell line: 2>\u001b[0;34m()\u001b[0m\n\u001b[1;32m      1\u001b[0m \u001b[38;5;28;01mimport\u001b[39;00m \u001b[38;5;21;01mmath\u001b[39;00m\n\u001b[0;32m----> 2\u001b[0m \u001b[38;5;28;01mimport\u001b[39;00m \u001b[38;5;21;01mtushare\u001b[39;00m \u001b[38;5;28;01mas\u001b[39;00m \u001b[38;5;21;01mts\u001b[39;00m \u001b[38;5;66;03m#1中安装的\u001b[39;00m\n\u001b[1;32m      3\u001b[0m \u001b[38;5;28;01mimport\u001b[39;00m \u001b[38;5;21;01mpandas\u001b[39;00m \u001b[38;5;28;01mas\u001b[39;00m \u001b[38;5;21;01mpd\u001b[39;00m\n\u001b[1;32m      4\u001b[0m \u001b[38;5;28;01mimport\u001b[39;00m \u001b[38;5;21;01mmatplotlib\u001b[39;00m\n",
      "\u001b[0;31mModuleNotFoundError\u001b[0m: No module named 'tushare'"
     ]
    }
   ],
   "source": [
    "import math\n",
    "import tushare as ts #1中安装的\n",
    "import pandas as pd\n",
    "import matplotlib\n",
    "import matplotlib.pyplot as plt\n",
    "import numpy as np\n",
    "#import talib   #注意看自己的电脑是32/64位的，然后选择对应的，在talib官网下载。\n",
    "plt.rcParams['font.sans-serif']=['SimHei']\n",
    "#画图时显示负号\n",
    "plt.rcParams['axes.unicode_minus']=False\n",
    "import seaborn as sns  #画图用的\n",
    "import tushare as ts\n",
    "from cvxopt import matrix, solvers\n",
    "\n",
    "#Jupyter Notebook特有的magic命令\n",
    "#直接在行内显示图形\n",
    "#设置token\n",
    "token='ae7603bac9c9fd3f78f08f0e5f92ec9222c62f488e9e5a28c5002109'\n",
    "#ts.set_token(token)\n",
    "pro = ts.pro_api(token)\n",
    "%matplotlib inline\n",
    "\n"
   ]
  },
  {
   "cell_type": "code",
   "execution_count": null,
   "id": "e33021ccb0985d4a",
   "metadata": {
    "is_executing": true
   },
   "outputs": [],
   "source": [
    "df1= pro.query('daily_basic', ts_code='', trade_date='20181101',fields='ts_code,trade_date,total_mv,ps,pe,pb')\n"
   ]
  },
  {
   "cell_type": "code",
   "execution_count": null,
   "id": "b8d5f1919c809f5",
   "metadata": {
    "is_executing": true
   },
   "outputs": [],
   "source": [
    "1"
   ]
  },
  {
   "cell_type": "code",
   "execution_count": null,
   "id": "48c180bb6ea9f9aa",
   "metadata": {},
   "outputs": [],
   "source": []
  }
 ],
 "metadata": {
  "kernelspec": {
   "display_name": "Python 3 (ipykernel)",
   "language": "python",
   "name": "python3"
  },
  "language_info": {
   "codemirror_mode": {
    "name": "ipython",
    "version": 3
   },
   "file_extension": ".py",
   "mimetype": "text/x-python",
   "name": "python",
   "nbconvert_exporter": "python",
   "pygments_lexer": "ipython3",
   "version": "3.9.12"
  }
 },
 "nbformat": 4,
 "nbformat_minor": 5
}
