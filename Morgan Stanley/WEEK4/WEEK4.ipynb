{
 "cells": [
  {
   "cell_type": "code",
   "execution_count": 1,
   "outputs": [],
   "source": [
    "#api: 6N4PFA0IR156G2M8"
   ],
   "metadata": {
    "collapsed": false
   }
  },
  {
   "cell_type": "code",
   "execution_count": 78,
   "outputs": [],
   "source": [
    "import pandas as pd\n",
    "import requests\n",
    "import matplotlib.pyplot as plt\n",
    "\n",
    "def get_stock_data(symbol, api_key):\n",
    "    base_url = \"https://www.alphavantage.co/query\"\n",
    "    function = \"TIME_SERIES_DAILY\"\n",
    "    query_params = {\n",
    "        \"function\": function,\n",
    "        \"symbol\": symbol,\n",
    "        \"apikey\": api_key,\n",
    "        \"outputsize\": \"full\"\n",
    "    }\n",
    "\n",
    "    response = requests.get(base_url, params=query_params)\n",
    "    if response.status_code == 200:\n",
    "        return response.json()\n",
    "    else:\n",
    "        return None\n",
    "def filter_data_by_date_range(data, start_date, end_date):\n",
    "    \"\"\"\n",
    "    Filters the stock data to only include entries within the given start and end dates.\n",
    "\n",
    "    :param data: The complete stock data returned by Alpha Vantage.\n",
    "    :param start_date: The start date as a string in YYYY-MM-DD format.\n",
    "    :param end_date: The end date as a string in YYYY-MM-DD format.\n",
    "    :return: Filtered data as a dictionary.\n",
    "    \"\"\"\n",
    "    time_series = data.get(\"Time Series (Daily)\", {})\n",
    "    filtered_data = {date: details for date, details in time_series.items() if start_date <= date <= end_date}\n",
    "    return filtered_data\n",
    "def create_dataframe(stock_data):\n",
    "    \"\"\"\n",
    "    Creates a pandas DataFrame from the stock data.\n",
    "\n",
    "    :param stock_data: The stock data returned by Alpha Vantage.\n",
    "    :return: A pandas DataFrame.\n",
    "    \"\"\"\n",
    "    # Extract the time series data\n",
    "\n",
    "    # Convert the time series into a DataFrame\n",
    "    df = pd.DataFrame(stock_data).T  # Transpose to have dates as rows\n",
    "\n",
    "    # Convert column names and data types\n",
    "    df.columns = ['Open', 'High', 'Low', 'Close', 'Volume']\n",
    "    for col in ['Open', 'High', 'Low', 'Close']:\n",
    "        df[col] = df[col].astype(float)\n",
    "    df['Volume'] = df['Volume'].astype(int)\n",
    "\n",
    "    # Convert the index to datetime\n",
    "    df.index = pd.to_datetime(df.index)\n",
    "    df.sort_index(inplace=True)\n",
    "    return df\n",
    "\n",
    "api_key = \"6N4PFA0IR156G2M8\"\n",
    "stock_symbol = \"AAPL\"\n",
    "start_date = \"2020-01-01\"\n",
    "end_date = \"2023-03-31\"\n",
    "# Fetch the stock data\n",
    "stock_data = get_stock_data(stock_symbol, api_key)\n",
    "stock_data = filter_data_by_date_range(stock_data, start_date, end_date)\n",
    "stock_df = create_dataframe(stock_data)"
   ],
   "metadata": {
    "collapsed": false
   }
  },
  {
   "cell_type": "code",
   "execution_count": 71,
   "outputs": [
    {
     "data": {
      "text/plain": "            Mkt-RF     RF\n1926-07-01    0.10  0.009\n1926-07-02    0.45  0.009\n1926-07-06    0.17  0.009\n1926-07-07    0.09  0.009\n1926-07-08    0.21  0.009\n...            ...    ...\n2024-02-23    0.02  0.021\n2024-02-26   -0.26  0.021\n2024-02-27    0.27  0.021\n2024-02-28   -0.26  0.021\n2024-02-29    0.54  0.021\n\n[25690 rows x 2 columns]",
      "text/html": "<div>\n<style scoped>\n    .dataframe tbody tr th:only-of-type {\n        vertical-align: middle;\n    }\n\n    .dataframe tbody tr th {\n        vertical-align: top;\n    }\n\n    .dataframe thead th {\n        text-align: right;\n    }\n</style>\n<table border=\"1\" class=\"dataframe\">\n  <thead>\n    <tr style=\"text-align: right;\">\n      <th></th>\n      <th>Mkt-RF</th>\n      <th>RF</th>\n    </tr>\n  </thead>\n  <tbody>\n    <tr>\n      <th>1926-07-01</th>\n      <td>0.10</td>\n      <td>0.009</td>\n    </tr>\n    <tr>\n      <th>1926-07-02</th>\n      <td>0.45</td>\n      <td>0.009</td>\n    </tr>\n    <tr>\n      <th>1926-07-06</th>\n      <td>0.17</td>\n      <td>0.009</td>\n    </tr>\n    <tr>\n      <th>1926-07-07</th>\n      <td>0.09</td>\n      <td>0.009</td>\n    </tr>\n    <tr>\n      <th>1926-07-08</th>\n      <td>0.21</td>\n      <td>0.009</td>\n    </tr>\n    <tr>\n      <th>...</th>\n      <td>...</td>\n      <td>...</td>\n    </tr>\n    <tr>\n      <th>2024-02-23</th>\n      <td>0.02</td>\n      <td>0.021</td>\n    </tr>\n    <tr>\n      <th>2024-02-26</th>\n      <td>-0.26</td>\n      <td>0.021</td>\n    </tr>\n    <tr>\n      <th>2024-02-27</th>\n      <td>0.27</td>\n      <td>0.021</td>\n    </tr>\n    <tr>\n      <th>2024-02-28</th>\n      <td>-0.26</td>\n      <td>0.021</td>\n    </tr>\n    <tr>\n      <th>2024-02-29</th>\n      <td>0.54</td>\n      <td>0.021</td>\n    </tr>\n  </tbody>\n</table>\n<p>25690 rows × 2 columns</p>\n</div>"
     },
     "execution_count": 71,
     "metadata": {},
     "output_type": "execute_result"
    }
   ],
   "source": [
    "AAPL = stock_df.loc[:,[\"Close\"]]\n",
    "#Factor Excess Returns\n",
    "#From:mba.tuck.dartmouth.edu/pages/faculty/ken.french/data_library.html (divided by 100 as KF reports in percent)\n",
    "market = pd.read_csv(\"F-F_Research_Data_Factors_daily.CSV\",header = 3,index_col=0)\n",
    "#only get MKT data and RF data\n",
    "market = market.iloc[:-1,[0,3]]\n",
    "market.index = pd.to_datetime(market.index)\n",
    "market\n"
   ],
   "metadata": {
    "collapsed": false
   }
  },
  {
   "cell_type": "code",
   "execution_count": 72,
   "outputs": [
    {
     "data": {
      "text/plain": "             Close\n2020-01-02  300.35\n2020-01-03  297.43\n2020-01-06  299.80\n2020-01-07  298.39\n2020-01-08  303.19\n...            ...\n2023-03-27  158.28\n2023-03-28  157.65\n2023-03-29  160.77\n2023-03-30  162.36\n2023-03-31  164.90\n\n[818 rows x 1 columns]",
      "text/html": "<div>\n<style scoped>\n    .dataframe tbody tr th:only-of-type {\n        vertical-align: middle;\n    }\n\n    .dataframe tbody tr th {\n        vertical-align: top;\n    }\n\n    .dataframe thead th {\n        text-align: right;\n    }\n</style>\n<table border=\"1\" class=\"dataframe\">\n  <thead>\n    <tr style=\"text-align: right;\">\n      <th></th>\n      <th>Close</th>\n    </tr>\n  </thead>\n  <tbody>\n    <tr>\n      <th>2020-01-02</th>\n      <td>300.35</td>\n    </tr>\n    <tr>\n      <th>2020-01-03</th>\n      <td>297.43</td>\n    </tr>\n    <tr>\n      <th>2020-01-06</th>\n      <td>299.80</td>\n    </tr>\n    <tr>\n      <th>2020-01-07</th>\n      <td>298.39</td>\n    </tr>\n    <tr>\n      <th>2020-01-08</th>\n      <td>303.19</td>\n    </tr>\n    <tr>\n      <th>...</th>\n      <td>...</td>\n    </tr>\n    <tr>\n      <th>2023-03-27</th>\n      <td>158.28</td>\n    </tr>\n    <tr>\n      <th>2023-03-28</th>\n      <td>157.65</td>\n    </tr>\n    <tr>\n      <th>2023-03-29</th>\n      <td>160.77</td>\n    </tr>\n    <tr>\n      <th>2023-03-30</th>\n      <td>162.36</td>\n    </tr>\n    <tr>\n      <th>2023-03-31</th>\n      <td>164.90</td>\n    </tr>\n  </tbody>\n</table>\n<p>818 rows × 1 columns</p>\n</div>"
     },
     "execution_count": 72,
     "metadata": {},
     "output_type": "execute_result"
    }
   ],
   "source": [
    "AAPL"
   ],
   "metadata": {
    "collapsed": false
   }
  },
  {
   "cell_type": "code",
   "execution_count": 73,
   "outputs": [
    {
     "data": {
      "text/plain": "             Close  Mkt-RF     RF\n2020-01-02  300.35    0.86  0.006\n2020-01-03  297.43   -0.67  0.006\n2020-01-06  299.80    0.36  0.006\n2020-01-07  298.39   -0.19  0.006\n2020-01-08  303.19    0.47  0.006\n...            ...     ...    ...\n2023-03-27  158.28    0.27  0.016\n2023-03-28  157.65   -0.17  0.016\n2023-03-29  160.77    1.39  0.016\n2023-03-30  162.36    0.50  0.016\n2023-03-31  164.90    1.53  0.016\n\n[818 rows x 3 columns]",
      "text/html": "<div>\n<style scoped>\n    .dataframe tbody tr th:only-of-type {\n        vertical-align: middle;\n    }\n\n    .dataframe tbody tr th {\n        vertical-align: top;\n    }\n\n    .dataframe thead th {\n        text-align: right;\n    }\n</style>\n<table border=\"1\" class=\"dataframe\">\n  <thead>\n    <tr style=\"text-align: right;\">\n      <th></th>\n      <th>Close</th>\n      <th>Mkt-RF</th>\n      <th>RF</th>\n    </tr>\n  </thead>\n  <tbody>\n    <tr>\n      <th>2020-01-02</th>\n      <td>300.35</td>\n      <td>0.86</td>\n      <td>0.006</td>\n    </tr>\n    <tr>\n      <th>2020-01-03</th>\n      <td>297.43</td>\n      <td>-0.67</td>\n      <td>0.006</td>\n    </tr>\n    <tr>\n      <th>2020-01-06</th>\n      <td>299.80</td>\n      <td>0.36</td>\n      <td>0.006</td>\n    </tr>\n    <tr>\n      <th>2020-01-07</th>\n      <td>298.39</td>\n      <td>-0.19</td>\n      <td>0.006</td>\n    </tr>\n    <tr>\n      <th>2020-01-08</th>\n      <td>303.19</td>\n      <td>0.47</td>\n      <td>0.006</td>\n    </tr>\n    <tr>\n      <th>...</th>\n      <td>...</td>\n      <td>...</td>\n      <td>...</td>\n    </tr>\n    <tr>\n      <th>2023-03-27</th>\n      <td>158.28</td>\n      <td>0.27</td>\n      <td>0.016</td>\n    </tr>\n    <tr>\n      <th>2023-03-28</th>\n      <td>157.65</td>\n      <td>-0.17</td>\n      <td>0.016</td>\n    </tr>\n    <tr>\n      <th>2023-03-29</th>\n      <td>160.77</td>\n      <td>1.39</td>\n      <td>0.016</td>\n    </tr>\n    <tr>\n      <th>2023-03-30</th>\n      <td>162.36</td>\n      <td>0.50</td>\n      <td>0.016</td>\n    </tr>\n    <tr>\n      <th>2023-03-31</th>\n      <td>164.90</td>\n      <td>1.53</td>\n      <td>0.016</td>\n    </tr>\n  </tbody>\n</table>\n<p>818 rows × 3 columns</p>\n</div>"
     },
     "execution_count": 73,
     "metadata": {},
     "output_type": "execute_result"
    }
   ],
   "source": [
    "AAPL = AAPL.join(market,how=\"inner\")\n",
    "AAPL"
   ],
   "metadata": {
    "collapsed": false
   }
  },
  {
   "cell_type": "markdown",
   "source": [
    "Task2"
   ],
   "metadata": {
    "collapsed": false
   }
  },
  {
   "cell_type": "code",
   "execution_count": 76,
   "outputs": [
    {
     "name": "stdout",
     "output_type": "stream",
     "text": [
      "                            OLS Regression Results                            \n",
      "==============================================================================\n",
      "Dep. Variable:                      y   R-squared:                       0.002\n",
      "Model:                            OLS   Adj. R-squared:                  0.000\n",
      "Method:                 Least Squares   F-statistic:                     1.363\n",
      "Date:                Thu, 04 Apr 2024   Prob (F-statistic):              0.243\n",
      "Time:                        03:55:42   Log-Likelihood:                -4770.7\n",
      "No. Observations:                 818   AIC:                             9545.\n",
      "Df Residuals:                     816   BIC:                             9555.\n",
      "Df Model:                           1                                         \n",
      "Covariance Type:            nonrobust                                         \n",
      "==============================================================================\n",
      "                 coef    std err          t      P>|t|      [0.025      0.975]\n",
      "------------------------------------------------------------------------------\n",
      "const        182.4224      2.890     63.115      0.000     176.749     188.096\n",
      "Mkt-RF         2.1050      1.803      1.168      0.243      -1.433       5.643\n",
      "==============================================================================\n",
      "Omnibus:                      277.126   Durbin-Watson:                   0.027\n",
      "Prob(Omnibus):                  0.000   Jarque-Bera (JB):              676.703\n",
      "Skew:                           1.830   Prob(JB):                    1.14e-147\n",
      "Kurtosis:                       5.541   Cond. No.                         1.60\n",
      "==============================================================================\n",
      "\n",
      "Notes:\n",
      "[1] Standard Errors assume that the covariance matrix of the errors is correctly specified.\n",
      "Alpha (α): 182.4224\n",
      "Beta (β): 2.1050\n"
     ]
    }
   ],
   "source": [
    "import statsmodels.api as sm\n",
    "\n",
    "y = AAPL[\"Close\"] - AAPL[\"RF\"]\n",
    "X = AAPL[[\"Mkt-RF\"]]\n",
    "\n",
    "X = sm.add_constant(X)\n",
    "model = sm.OLS(y,X)\n",
    "results = model.fit()\n",
    "print(results.summary())\n",
    "# β值为X的系数\n",
    "beta = results.params['Mkt-RF']\n",
    "\n",
    "# α值为常数项的系数，这里表示超额收益\n",
    "alpha = results.params['const']\n",
    "\n",
    "print(f'Alpha (α): {alpha:.4f}')\n",
    "print(f'Beta (β): {beta:.4f}')\n"
   ],
   "metadata": {
    "collapsed": false
   }
  },
  {
   "cell_type": "markdown",
   "source": [
    "Task3"
   ],
   "metadata": {
    "collapsed": false
   }
  },
  {
   "cell_type": "code",
   "execution_count": 80,
   "outputs": [
    {
     "data": {
      "text/plain": "<Figure size 1000x600 with 1 Axes>",
      "image/png": "[encoded data removed]"
     },
     "metadata": {},
     "output_type": "display_data"
    }
   ],
   "source": [
    "r_squared = results.rsquared\n",
    "\n",
    "# 可视化α、β和R^2值\n",
    "fig, ax = plt.subplots(figsize=(10, 6))\n",
    "ax.scatter(beta, alpha, label=f'Alpha: {alpha:.2f}\\nBeta: {beta:.2f}\\n$R^2$: {r_squared:.2f}')\n",
    "ax.set_title('Beta vs. Alpha with $R^2$')\n",
    "ax.set_xlabel('Beta (β)')\n",
    "ax.set_ylabel('Alpha (α)')\n",
    "ax.legend()\n",
    "\n",
    "plt.show()"
   ],
   "metadata": {
    "collapsed": false
   }
  },
  {
   "cell_type": "code",
   "execution_count": null,
   "outputs": [],
   "source": [],
   "metadata": {
    "collapsed": false
   }
  }
 ],
 "metadata": {
  "kernelspec": {
   "display_name": "Python 3",
   "language": "python",
   "name": "python3"
  },
  "language_info": {
   "codemirror_mode": {
    "name": "ipython",
    "version": 2
   },
   "file_extension": ".py",
   "mimetype": "text/x-python",
   "name": "python",
   "nbconvert_exporter": "python",
   "pygments_lexer": "ipython2",
   "version": "2.7.6"
  }
 },
 "nbformat": 4,
 "nbformat_minor": 0
}
