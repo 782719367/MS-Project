{
 "cells": [
  {
   "cell_type": "code",
   "execution_count": 6,
   "id": "initial_id",
   "metadata": {
    "collapsed": true,
    "ExecuteTime": {
     "end_time": "2024-04-25T17:46:07.642203Z",
     "start_time": "2024-04-25T17:46:07.552375Z"
    }
   },
   "outputs": [
    {
     "ename": "ImportError",
     "evalue": "\n\nIMPORTANT: PLEASE READ THIS FOR ADVICE ON HOW TO SOLVE THIS ISSUE!\n\nImporting the numpy C-extensions failed. This error can happen for\nmany reasons, often due to issues with your setup or how NumPy was\ninstalled.\n\nWe have compiled some common reasons and troubleshooting tips at:\n\n    https://numpy.org/devdocs/user/troubleshooting-importerror.html\n\nPlease note and check the following:\n\n  * The Python version is: Python3.8 from \"/opt/miniconda3/envs/Morgan_Stanley/bin/python\"\n  * The NumPy version is: \"1.24.4\"\n\nand make sure that they are the versions you expect.\nPlease carefully study the documentation linked above for further help.\n\nOriginal error was: dlopen(/opt/miniconda3/envs/Morgan_Stanley/lib/python3.8/site-packages/numpy/core/_multiarray_umath.cpython-38-darwin.so, 0x0002): Library not loaded: @rpath/libcblas.3.dylib\n  Referenced from: <B73920F7-9293-3B5D-98B8-E470831CDC98> /opt/miniconda3/envs/Morgan_Stanley/lib/python3.8/site-packages/numpy/core/_multiarray_umath.cpython-38-darwin.so\n  Reason: tried: '/opt/miniconda3/envs/Morgan_Stanley/lib/python3.8/site-packages/numpy/core/../../../../libcblas.3.dylib' (no such file), '/opt/miniconda3/envs/Morgan_Stanley/lib/python3.8/site-packages/numpy/core/../../../../libcblas.3.dylib' (no such file), '/opt/miniconda3/envs/Morgan_Stanley/bin/../lib/libcblas.3.dylib' (no such file), '/opt/miniconda3/envs/Morgan_Stanley/bin/../lib/libcblas.3.dylib' (no such file), '/usr/local/lib/libcblas.3.dylib' (no such file), '/usr/lib/libcblas.3.dylib' (no such file, not in dyld cache)\n",
     "output_type": "error",
     "traceback": [
      "\u001B[0;31m---------------------------------------------------------------------------\u001B[0m",
      "\u001B[0;31mImportError\u001B[0m                               Traceback (most recent call last)",
      "File \u001B[0;32m/opt/miniconda3/envs/Morgan_Stanley/lib/python3.8/site-packages/numpy/core/__init__.py:23\u001B[0m\n\u001B[1;32m     22\u001B[0m \u001B[38;5;28;01mtry\u001B[39;00m:\n\u001B[0;32m---> 23\u001B[0m     \u001B[38;5;28;01mfrom\u001B[39;00m \u001B[38;5;21;01m.\u001B[39;00m \u001B[38;5;28;01mimport\u001B[39;00m multiarray\n\u001B[1;32m     24\u001B[0m \u001B[38;5;28;01mexcept\u001B[39;00m \u001B[38;5;167;01mImportError\u001B[39;00m \u001B[38;5;28;01mas\u001B[39;00m exc:\n",
      "File \u001B[0;32m/opt/miniconda3/envs/Morgan_Stanley/lib/python3.8/site-packages/numpy/core/multiarray.py:10\u001B[0m\n\u001B[1;32m      9\u001B[0m \u001B[38;5;28;01mimport\u001B[39;00m \u001B[38;5;21;01mfunctools\u001B[39;00m\n\u001B[0;32m---> 10\u001B[0m \u001B[38;5;28;01mfrom\u001B[39;00m \u001B[38;5;21;01m.\u001B[39;00m \u001B[38;5;28;01mimport\u001B[39;00m overrides\n\u001B[1;32m     11\u001B[0m \u001B[38;5;28;01mfrom\u001B[39;00m \u001B[38;5;21;01m.\u001B[39;00m \u001B[38;5;28;01mimport\u001B[39;00m _multiarray_umath\n",
      "File \u001B[0;32m/opt/miniconda3/envs/Morgan_Stanley/lib/python3.8/site-packages/numpy/core/overrides.py:6\u001B[0m\n\u001B[1;32m      4\u001B[0m \u001B[38;5;28;01mimport\u001B[39;00m \u001B[38;5;21;01mos\u001B[39;00m\n\u001B[0;32m----> 6\u001B[0m \u001B[38;5;28;01mfrom\u001B[39;00m \u001B[38;5;21;01mnumpy\u001B[39;00m\u001B[38;5;21;01m.\u001B[39;00m\u001B[38;5;21;01mcore\u001B[39;00m\u001B[38;5;21;01m.\u001B[39;00m\u001B[38;5;21;01m_multiarray_umath\u001B[39;00m \u001B[38;5;28;01mimport\u001B[39;00m (\n\u001B[1;32m      7\u001B[0m     add_docstring, implement_array_function, _get_implementing_args)\n\u001B[1;32m      8\u001B[0m \u001B[38;5;28;01mfrom\u001B[39;00m \u001B[38;5;21;01mnumpy\u001B[39;00m\u001B[38;5;21;01m.\u001B[39;00m\u001B[38;5;21;01mcompat\u001B[39;00m\u001B[38;5;21;01m.\u001B[39;00m\u001B[38;5;21;01m_inspect\u001B[39;00m \u001B[38;5;28;01mimport\u001B[39;00m getargspec\n",
      "\u001B[0;31mImportError\u001B[0m: dlopen(/opt/miniconda3/envs/Morgan_Stanley/lib/python3.8/site-packages/numpy/core/_multiarray_umath.cpython-38-darwin.so, 0x0002): Library not loaded: @rpath/libcblas.3.dylib\n  Referenced from: <B73920F7-9293-3B5D-98B8-E470831CDC98> /opt/miniconda3/envs/Morgan_Stanley/lib/python3.8/site-packages/numpy/core/_multiarray_umath.cpython-38-darwin.so\n  Reason: tried: '/opt/miniconda3/envs/Morgan_Stanley/lib/python3.8/site-packages/numpy/core/../../../../libcblas.3.dylib' (no such file), '/opt/miniconda3/envs/Morgan_Stanley/lib/python3.8/site-packages/numpy/core/../../../../libcblas.3.dylib' (no such file), '/opt/miniconda3/envs/Morgan_Stanley/bin/../lib/libcblas.3.dylib' (no such file), '/opt/miniconda3/envs/Morgan_Stanley/bin/../lib/libcblas.3.dylib' (no such file), '/usr/local/lib/libcblas.3.dylib' (no such file), '/usr/lib/libcblas.3.dylib' (no such file, not in dyld cache)",
      "\nDuring handling of the above exception, another exception occurred:\n",
      "\u001B[0;31mImportError\u001B[0m                               Traceback (most recent call last)",
      "Cell \u001B[0;32mIn[6], line 5\u001B[0m\n\u001B[1;32m      3\u001B[0m \u001B[38;5;28;01mfrom\u001B[39;00m \u001B[38;5;21;01mtqdm\u001B[39;00m \u001B[38;5;28;01mimport\u001B[39;00m tqdm\n\u001B[1;32m      4\u001B[0m \u001B[38;5;28;01mimport\u001B[39;00m \u001B[38;5;21;01mrandom\u001B[39;00m\n\u001B[0;32m----> 5\u001B[0m \u001B[38;5;28;01mimport\u001B[39;00m \u001B[38;5;21;01mxgboost\u001B[39;00m \u001B[38;5;28;01mas\u001B[39;00m \u001B[38;5;21;01mxgb\u001B[39;00m\n\u001B[1;32m      6\u001B[0m \u001B[38;5;28;01mfrom\u001B[39;00m \u001B[38;5;21;01mta\u001B[39;00m\u001B[38;5;21;01m.\u001B[39;00m\u001B[38;5;21;01mmomentum\u001B[39;00m \u001B[38;5;28;01mimport\u001B[39;00m RSIIndicator,StochasticOscillator\n\u001B[1;32m      7\u001B[0m \u001B[38;5;28;01mfrom\u001B[39;00m \u001B[38;5;21;01mstatsmodels\u001B[39;00m\u001B[38;5;21;01m.\u001B[39;00m\u001B[38;5;21;01mtsa\u001B[39;00m\u001B[38;5;21;01m.\u001B[39;00m\u001B[38;5;21;01marima\u001B[39;00m\u001B[38;5;21;01m.\u001B[39;00m\u001B[38;5;21;01mmodel\u001B[39;00m \u001B[38;5;28;01mimport\u001B[39;00m ARIMA\n",
      "File \u001B[0;32m/opt/miniconda3/envs/Morgan_Stanley/lib/python3.8/site-packages/xgboost/__init__.py:7\u001B[0m\n\u001B[1;32m      1\u001B[0m \u001B[38;5;124;03m\"\"\"XGBoost: eXtreme Gradient Boosting library.\u001B[39;00m\n\u001B[1;32m      2\u001B[0m \n\u001B[1;32m      3\u001B[0m \u001B[38;5;124;03mContributors: https://github.com/dmlc/xgboost/blob/master/CONTRIBUTORS.md\u001B[39;00m\n\u001B[1;32m      4\u001B[0m \u001B[38;5;124;03m\"\"\"\u001B[39;00m\n\u001B[1;32m      6\u001B[0m \u001B[38;5;28;01mfrom\u001B[39;00m \u001B[38;5;21;01m.\u001B[39;00m \u001B[38;5;28;01mimport\u001B[39;00m tracker  \u001B[38;5;66;03m# noqa\u001B[39;00m\n\u001B[0;32m----> 7\u001B[0m \u001B[38;5;28;01mfrom\u001B[39;00m \u001B[38;5;21;01m.\u001B[39;00m \u001B[38;5;28;01mimport\u001B[39;00m collective, dask, rabit\n\u001B[1;32m      8\u001B[0m \u001B[38;5;28;01mfrom\u001B[39;00m \u001B[38;5;21;01m.\u001B[39;00m\u001B[38;5;21;01mcore\u001B[39;00m \u001B[38;5;28;01mimport\u001B[39;00m (\n\u001B[1;32m      9\u001B[0m     Booster,\n\u001B[1;32m     10\u001B[0m     DataIter,\n\u001B[0;32m   (...)\u001B[0m\n\u001B[1;32m     15\u001B[0m     build_info,\n\u001B[1;32m     16\u001B[0m )\n\u001B[1;32m     17\u001B[0m \u001B[38;5;28;01mfrom\u001B[39;00m \u001B[38;5;21;01m.\u001B[39;00m\u001B[38;5;21;01mtracker\u001B[39;00m \u001B[38;5;28;01mimport\u001B[39;00m RabitTracker  \u001B[38;5;66;03m# noqa\u001B[39;00m\n",
      "File \u001B[0;32m/opt/miniconda3/envs/Morgan_Stanley/lib/python3.8/site-packages/xgboost/collective.py:9\u001B[0m\n\u001B[1;32m      6\u001B[0m \u001B[38;5;28;01mfrom\u001B[39;00m \u001B[38;5;21;01menum\u001B[39;00m \u001B[38;5;28;01mimport\u001B[39;00m IntEnum, unique\n\u001B[1;32m      7\u001B[0m \u001B[38;5;28;01mfrom\u001B[39;00m \u001B[38;5;21;01mtyping\u001B[39;00m \u001B[38;5;28;01mimport\u001B[39;00m Any, Dict, List\n\u001B[0;32m----> 9\u001B[0m \u001B[38;5;28;01mimport\u001B[39;00m \u001B[38;5;21;01mnumpy\u001B[39;00m \u001B[38;5;28;01mas\u001B[39;00m \u001B[38;5;21;01mnp\u001B[39;00m\n\u001B[1;32m     11\u001B[0m \u001B[38;5;28;01mfrom\u001B[39;00m \u001B[38;5;21;01m.\u001B[39;00m\u001B[38;5;21;01m_typing\u001B[39;00m \u001B[38;5;28;01mimport\u001B[39;00m _T\n\u001B[1;32m     12\u001B[0m \u001B[38;5;28;01mfrom\u001B[39;00m \u001B[38;5;21;01m.\u001B[39;00m\u001B[38;5;21;01mcore\u001B[39;00m \u001B[38;5;28;01mimport\u001B[39;00m _LIB, _check_call, c_str, from_pystr_to_cstr, py_str\n",
      "File \u001B[0;32m/opt/miniconda3/envs/Morgan_Stanley/lib/python3.8/site-packages/numpy/__init__.py:141\u001B[0m\n\u001B[1;32m    138\u001B[0m \u001B[38;5;66;03m# Allow distributors to run custom init code\u001B[39;00m\n\u001B[1;32m    139\u001B[0m \u001B[38;5;28;01mfrom\u001B[39;00m \u001B[38;5;21;01m.\u001B[39;00m \u001B[38;5;28;01mimport\u001B[39;00m _distributor_init\n\u001B[0;32m--> 141\u001B[0m \u001B[38;5;28;01mfrom\u001B[39;00m \u001B[38;5;21;01m.\u001B[39;00m \u001B[38;5;28;01mimport\u001B[39;00m core\n\u001B[1;32m    142\u001B[0m \u001B[38;5;28;01mfrom\u001B[39;00m \u001B[38;5;21;01m.\u001B[39;00m\u001B[38;5;21;01mcore\u001B[39;00m \u001B[38;5;28;01mimport\u001B[39;00m \u001B[38;5;241m*\u001B[39m\n\u001B[1;32m    143\u001B[0m \u001B[38;5;28;01mfrom\u001B[39;00m \u001B[38;5;21;01m.\u001B[39;00m \u001B[38;5;28;01mimport\u001B[39;00m compat\n",
      "File \u001B[0;32m/opt/miniconda3/envs/Morgan_Stanley/lib/python3.8/site-packages/numpy/core/__init__.py:49\u001B[0m\n\u001B[1;32m     25\u001B[0m     \u001B[38;5;28;01mimport\u001B[39;00m \u001B[38;5;21;01msys\u001B[39;00m\n\u001B[1;32m     26\u001B[0m     msg \u001B[38;5;241m=\u001B[39m \u001B[38;5;124m\"\"\"\u001B[39m\n\u001B[1;32m     27\u001B[0m \n\u001B[1;32m     28\u001B[0m \u001B[38;5;124mIMPORTANT: PLEASE READ THIS FOR ADVICE ON HOW TO SOLVE THIS ISSUE!\u001B[39m\n\u001B[0;32m   (...)\u001B[0m\n\u001B[1;32m     47\u001B[0m \u001B[38;5;124m\"\"\"\u001B[39m \u001B[38;5;241m%\u001B[39m (sys\u001B[38;5;241m.\u001B[39mversion_info[\u001B[38;5;241m0\u001B[39m], sys\u001B[38;5;241m.\u001B[39mversion_info[\u001B[38;5;241m1\u001B[39m], sys\u001B[38;5;241m.\u001B[39mexecutable,\n\u001B[1;32m     48\u001B[0m         __version__, exc)\n\u001B[0;32m---> 49\u001B[0m     \u001B[38;5;28;01mraise\u001B[39;00m \u001B[38;5;167;01mImportError\u001B[39;00m(msg)\n\u001B[1;32m     50\u001B[0m \u001B[38;5;28;01mfinally\u001B[39;00m:\n\u001B[1;32m     51\u001B[0m     \u001B[38;5;28;01mfor\u001B[39;00m envkey \u001B[38;5;129;01min\u001B[39;00m env_added:\n",
      "\u001B[0;31mImportError\u001B[0m: \n\nIMPORTANT: PLEASE READ THIS FOR ADVICE ON HOW TO SOLVE THIS ISSUE!\n\nImporting the numpy C-extensions failed. This error can happen for\nmany reasons, often due to issues with your setup or how NumPy was\ninstalled.\n\nWe have compiled some common reasons and troubleshooting tips at:\n\n    https://numpy.org/devdocs/user/troubleshooting-importerror.html\n\nPlease note and check the following:\n\n  * The Python version is: Python3.8 from \"/opt/miniconda3/envs/Morgan_Stanley/bin/python\"\n  * The NumPy version is: \"1.24.4\"\n\nand make sure that they are the versions you expect.\nPlease carefully study the documentation linked above for further help.\n\nOriginal error was: dlopen(/opt/miniconda3/envs/Morgan_Stanley/lib/python3.8/site-packages/numpy/core/_multiarray_umath.cpython-38-darwin.so, 0x0002): Library not loaded: @rpath/libcblas.3.dylib\n  Referenced from: <B73920F7-9293-3B5D-98B8-E470831CDC98> /opt/miniconda3/envs/Morgan_Stanley/lib/python3.8/site-packages/numpy/core/_multiarray_umath.cpython-38-darwin.so\n  Reason: tried: '/opt/miniconda3/envs/Morgan_Stanley/lib/python3.8/site-packages/numpy/core/../../../../libcblas.3.dylib' (no such file), '/opt/miniconda3/envs/Morgan_Stanley/lib/python3.8/site-packages/numpy/core/../../../../libcblas.3.dylib' (no such file), '/opt/miniconda3/envs/Morgan_Stanley/bin/../lib/libcblas.3.dylib' (no such file), '/opt/miniconda3/envs/Morgan_Stanley/bin/../lib/libcblas.3.dylib' (no such file), '/usr/local/lib/libcblas.3.dylib' (no such file), '/usr/lib/libcblas.3.dylib' (no such file, not in dyld cache)\n"
     ]
    }
   ],
   "source": [
    "#!pip install pmdarima\n",
    "#!pip install tqdm xgboost ta statsmodels numpy pandas matplotlib\n",
    "from tqdm import tqdm\n",
    "import random\n",
    "import xgboost as xgb\n",
    "from ta.momentum import RSIIndicator,StochasticOscillator\n",
    "from statsmodels.tsa.arima.model import ARIMA\n",
    "\n",
    "#Exercise1\n",
    "import numpy as np\n",
    "import pandas as pd\n",
    "import matplotlib.pyplot as plt\n",
    "from datetime import datetime, timedelta\n",
    "# 设置初始参数\n",
    "S0 = 100         # 初始股价\n",
    "mu = 0.05        # 年化收益率\n",
    "sigma = 0.2      # 年化波动率\n",
    "days = 200     # 模拟天数\n",
    "dt = 1/252       # 每天作为交易日的比例（通常一年252个交易日）\n",
    "\n",
    "np.random.seed(0)  # 设置随机种子\n",
    "\n",
    "# 生成每天的样本路径\n",
    "price_paths = [S0]\n",
    "for _ in range(1, days):\n",
    "    z = np.random.standard_normal()  # 生成正态分布随机数\n",
    "    S_t = price_paths[-1] * np.exp((mu - 0.5 * sigma**2) * dt + sigma * np.sqrt(dt) * z)\n",
    "    price_paths.append(S_t)\n",
    "\n",
    "# 根据生成的路径模拟开盘、收盘、最高、最低价格\n",
    "stock_data = {'Open': [], 'Close': [], 'High': [], 'Low': []}\n",
    "for i in tqdm(range(1, len(price_paths))):\n",
    "    daily_prices = np.random.lognormal(mean=np.log(price_paths[i-1]), sigma=sigma*np.sqrt(dt), size=4)\n",
    "    stock_data['Open'].append(daily_prices[0])\n",
    "    stock_data['Close'].append(daily_prices[1])\n",
    "    stock_data['High'].append(np.max(daily_prices))\n",
    "    stock_data['Low'].append(np.min(daily_prices))\n",
    "\n",
    "# 转换为DataFrame\n",
    "stock_df = pd.DataFrame(stock_data)\n",
    "start = \"2023-01-01\"\n",
    "stock_df.index = pd.date_range(start=start, periods=days-1, freq='D')\n",
    "print(stock_df.head())\n",
    "\n",
    "# 绘制股价路径图\n",
    "plt.figure(figsize=(10, 5))\n",
    "plt.plot(stock_df['Close'], label='Close Price')\n",
    "plt.fill_between(stock_df.index, stock_df['Low'], stock_df['High'], color='gray', alpha=0.3)\n",
    "plt.title('Simulated Stock Price - Geometric Brownian Motion')\n",
    "plt.xlabel('Date')\n",
    "plt.ylabel('Price')\n",
    "plt.legend()\n",
    "plt.show()\n"
   ]
  },
  {
   "cell_type": "code",
   "execution_count": 7,
   "outputs": [
    {
     "ename": "NameError",
     "evalue": "name 'stock_df' is not defined",
     "output_type": "error",
     "traceback": [
      "\u001B[0;31m---------------------------------------------------------------------------\u001B[0m",
      "\u001B[0;31mNameError\u001B[0m                                 Traceback (most recent call last)",
      "Cell \u001B[0;32mIn[7], line 1\u001B[0m\n\u001B[0;32m----> 1\u001B[0m ret \u001B[38;5;241m=\u001B[39m \u001B[43mstock_df\u001B[49m\u001B[38;5;241m.\u001B[39mpct_change()\u001B[38;5;241m.\u001B[39mdropna()\n\u001B[1;32m      2\u001B[0m ret\n",
      "\u001B[0;31mNameError\u001B[0m: name 'stock_df' is not defined"
     ]
    }
   ],
   "source": [
    "ret = stock_df.pct_change().dropna()\n",
    "ret"
   ],
   "metadata": {
    "collapsed": false,
    "ExecuteTime": {
     "end_time": "2024-04-25T17:46:08.890888Z",
     "start_time": "2024-04-25T17:46:08.879989Z"
    }
   },
   "id": "c7e25ac29d51aa75"
  },
  {
   "cell_type": "code",
   "execution_count": null,
   "outputs": [],
   "source": [
    "\"\"\"\n",
    "1. 初始投资禀赋的不同体现在两个方面，一是信息获取能力的强弱，二是风险厌恶程度\n",
    "第一类投资者信息获取能力强，可以通过机器学习，获取上市股票较为准确的信息分析挖掘多种因子作为输入量来预测\n",
    "第二类投资者信息获取能力差，只能通过趋势学习，基本面分析来预测股票走势\n",
    "第三类投资者随机应变投资者，对价格的预测根据上一日的收盘价加上一个正态分布噪音，完全随机。\n",
    "\n",
    "1.1 假设每类投资者都有100人，初始财富都为100股的股票+10000元，股票的初始价值为100元每股，模拟100天结果。\n",
    "在实际买卖中会有佣金 slippery cost等，在这里我们简化了\n",
    "\n",
    "2. 申购行为：买卖报价的基本原则是当投资者作为买（卖）方进入市场时，若观测到的最近n次成交的价格低（高）于自己对当日收盘价的预测，则提交一个介于近期成交平均价与自己预测价之间的价格以提高买入的概率；若观测到的最近n次成交的价格高（低）于自己对当日收盘价的预测，则提交一个介于近期成交平均价与自己预测价之间的价格以提高卖出的概率。\n",
    "bid：卖    ask：买\n",
    "\n",
    "2.2 限价订单规则\n",
    "具体地，进入市场的订单按价格优先和时间优先的准则在订单簿中排序，最优买入申报价格为最 高买入申报价格，记为Ｂ；最优卖出申报价格为最低卖出申报价格，记为 A。若新进入的买单报价>= A, 则以 A 的价格成交，即 q(现价）= A; 若新进入的卖单报价<=B,则以B的价格成交，即q(现价) = B。若最优买入申报价格与最优卖出申报价格相同，则q(现价）= A= B。\n",
    "各类投资者以随机顺序进入市场，在所有投资者完成买卖选择后，一个交易日结束，清算每位投资着的总资产=现金+股票持有数量*股票当日收盘价格。随后进行下一个交易日的的模拟。\n",
    "\n",
    "3. 分析结果： 收集和分析100天后每位投资者的最终财富状况，以及股票价格的变动趋势。\n",
    "\n",
    "OPTION：1.每位投资者可以加入风险厌恶程度lambda，每次买入股票只会拿出总财富（w）的lambda * w来买交易。\n",
    "\"\"\""
   ],
   "metadata": {
    "collapsed": false,
    "ExecuteTime": {
     "start_time": "2024-04-25T17:42:27.239152Z"
    }
   },
   "id": "da0052b9188766e7"
  },
  {
   "cell_type": "code",
   "execution_count": null,
   "outputs": [],
   "source": [
    "# 生成初始的信息\n",
    "def origin_info():\n",
    "    #三类投资者数量 n_1,n_2,n_3\n",
    "    np.random.seed(0)\n",
    "    n_1 = 50\n",
    "    n_2 = 50\n",
    "    n_3 = 50\n",
    "    n = n_1 + n_2 + n_3\n",
    "    # 投资者分类列表\n",
    "    list_1 = []\n",
    "    # 每人资金列表\n",
    "    list_2 = [float(10000) for _ in range(n)]\n",
    "    # 每人股票数量列表\n",
    "    list_3 = [float(100) for _ in range(n)]\n",
    "    # 每人拥有的财富列表\n",
    "    list_4 = [float(20000) for _ in range(n)]\n",
    "\n",
    "    #风险厌恶系数，ratio越小表明对风险厌恶程度高\n",
    "    weights = [round(np.random.uniform(0.5,1),2) for _ in range(n)]\n",
    "    \n",
    "    for i in range(n_1):\n",
    "        list_1.append(1)\n",
    "    for i in range(n_2):\n",
    "        list_1.append(2)\n",
    "    for i in range(n_3):\n",
    "        list_1.append(3)\n",
    "\n",
    "    dictionary = {'type': list_1, 'cash': list_2, 'holdings': list_3, 'wealth': list_4,\"risk_tolerance\": weights}\n",
    "    investor_info = pd.DataFrame(dictionary)\n",
    "\n",
    "    #初始化\n",
    "    multi_index = pd.MultiIndex.from_product([stock_df.index, investor_info.index], names=['Date', 'Investor'])\n",
    "    df_multi = pd.DataFrame(index=multi_index)\n",
    "    # Populate the new DataFrame with data from investor_info and df2\n",
    "    df_multi['Open'] = stock_df['Open'].reindex(df_multi.index, level='Date')\n",
    "    df_multi['type'] = investor_info['type'].reindex(df_multi.index, level='Investor')\n",
    "    df_multi['cash'] = investor_info['cash'].reindex(df_multi.index, level='Investor')\n",
    "    df_multi['holdings'] = investor_info['holdings'].reindex(df_multi.index, level='Investor')\n",
    "    df_multi['wealth'] = investor_info['wealth'].reindex(df_multi.index, level='Investor')\n",
    "    df_multi['risk_tolerance'] = investor_info['risk_tolerance'].reindex(df_multi.index, level='Investor')\n",
    "    df_multi[\"Prediction\"] = float(0)\n",
    "    return df_multi\n"
   ],
   "metadata": {
    "collapsed": false,
    "ExecuteTime": {
     "start_time": "2024-04-25T17:42:27.241562Z"
    }
   },
   "id": "efc955b7b85cb519"
  },
  {
   "cell_type": "code",
   "execution_count": null,
   "outputs": [],
   "source": [
    "stock_df"
   ],
   "metadata": {
    "collapsed": false,
    "ExecuteTime": {
     "start_time": "2024-04-25T17:42:27.243823Z"
    }
   },
   "id": "f643a51ea832bc2c"
  },
  {
   "cell_type": "code",
   "execution_count": null,
   "outputs": [],
   "source": [
    "def generate_order(recent_prices, prediction):\n",
    "    avg_recent_price = np.mean(recent_prices)\n",
    "\n",
    "    if prediction > avg_recent_price:\n",
    "        # 若预测价格高于近期平均成交价，投资者可能认为价格将上升，更倾向于买入\n",
    "        difference = (prediction - avg_recent_price)\n",
    "        temp = random.uniform(-difference, difference)\n",
    "        bid_price = avg_recent_price+temp\n",
    "        return ('buy', bid_price)\n",
    "    else:\n",
    "        # 若预测价格低于近期平均成交价，投资者可能认为价格将下降，更倾向于卖出\n",
    "        difference = (avg_recent_price - prediction)\n",
    "        temp = random.uniform(-difference, difference)\n",
    "        ask_price = avg_recent_price+temp\n",
    "        return ('sell', ask_price)\n",
    "\n",
    "class OrderBook:\n",
    "    def __init__(self):\n",
    "        self.buy_orders = []\n",
    "        self.sell_orders = []\n",
    "\n",
    "    def add_order(self, order_type, price, investor):\n",
    "        order = {'type': order_type, 'price': price, 'investor': investor}\n",
    "        if order_type == 'buy':\n",
    "            self.buy_orders.append(order)\n",
    "        else:\n",
    "            self.sell_orders.append(order)\n",
    "            \n",
    "    def sort(self):\n",
    "        self.buy_orders.sort(key=lambda x: (-x['price'], x['investor']))  # Highest price first, earliest first if same price\n",
    "        self.sell_orders.sort(key=lambda x: (x['price'], x['investor']))  # Lowest price first, earliest first if same price\n",
    "\n",
    "    def match_orders(self):\n",
    "        trades = []\n",
    "        while self.buy_orders and self.sell_orders and self.buy_orders[0]['price'] >= self.sell_orders[0]['price']:\n",
    "            buy_order = self.buy_orders.pop(0)\n",
    "            sell_order = self.sell_orders.pop(0)\n",
    "            trade_price = sell_order['price']  # Execute at the lowest ask price\n",
    "            trades.append((buy_order['investor'], sell_order['investor'], trade_price))\n",
    "            # Here you can implement trade execution logic and update accounts\n",
    "        return trades\n"
   ],
   "metadata": {
    "collapsed": false,
    "ExecuteTime": {
     "start_time": "2024-04-25T17:42:27.245933Z"
    }
   },
   "id": "79ce47620e81f83b"
  },
  {
   "cell_type": "code",
   "execution_count": null,
   "outputs": [],
   "source": [
    "def featurecalculator(share):\n",
    "    share['EMA_9'] = share['Open'].ewm(9).mean() # exponential moving average of window 9\n",
    "    share['SMA_5'] = share['Open'].rolling(5).mean() # moving average of window 5\n",
    "    share['SMA_10'] = share['Open'].rolling(10).mean() # moving average of window 10\n",
    "    share['SMA_15'] = share['Open'].rolling(15).mean() # moving average of window 15\n",
    "    share['SMA_20'] = share['Open'].rolling(20).mean() # moving average of window 20\n",
    "    share['SMA_25'] = share['Open'].rolling(25).mean() # moving average of window 25\n",
    "    share['SMA_30'] = share['Open'].rolling(30).mean() # moving average of window 30\n",
    "    EMA_12 = pd.Series(share['Open'].ewm(span=12, min_periods=12).mean())\n",
    "    EMA_26 = pd.Series(share['Open'].ewm(span=26, min_periods=26).mean())\n",
    "    share['MACD'] = pd.Series(EMA_12 - EMA_26)    # calculates Moving Average Convergence Divergence\n",
    "    share['RSI'] = RSIIndicator(share['Open']).rsi() # calculates Relative Strength Index \n",
    "    share['Stochastic']=StochasticOscillator(share['High'],share['Low'],share['Open']).stoch() # Calculates Stochastic Oscillator\n",
    "    pass\n",
    "\n",
    "def ml_model(data):\n",
    "    featurecalculator(data)\n",
    "    data.dropna(inplace = True)\n",
    "    data.drop(['High','Low','Close'],inplace=True,axis=1)\n",
    "    # Preparing features and target\n",
    "    data['Open'] = data['Open'].shift(-1)  # Predict next day's close\n",
    "    training_data = data.iloc[:-1]\n",
    "    X_train = training_data.drop([\"Open\"],axis=1)\n",
    "    y_train = training_data[\"Open\"]\n",
    "    \n",
    "    #use last day's feature for next day's price prediction\n",
    "    features_for_prediction = data.drop([\"Open\"],axis = 1).iloc[-1].values.reshape(1, -1)\n",
    "    \n",
    "    # XGBoost model\n",
    "    model = xgb.XGBRegressor(objective ='reg:squarederror', colsample_bytree=0.4, learning_rate=0.1, max_depth=3, alpha=10, n_estimators=100)\n",
    "    # Fit model\n",
    "    model.fit(X_train, y_train)\n",
    "    #predict price\n",
    "    predicted_price = model.predict(features_for_prediction)\n",
    "    return predicted_price\n",
    "\n",
    "def trend_analysis(historical_data):\n",
    "    model = ARIMA(historical_data, order=(1, 1, 1))\n",
    "    model_fit = model.fit()\n",
    "    forecasts = model_fit.forecast(steps=1)\n",
    "    return forecasts.iloc[0]\n",
    "\n",
    "def predict_prices(investor_type, historical):\n",
    "    historical_data = historical.copy()\n",
    "    if investor_type == 1:\n",
    "        # 使用机器学习模型预测\n",
    "        prediction = ml_model(historical_data)[0]\n",
    "    elif investor_type == 2:\n",
    "        historical_data = historical_data[\"Open\"]\n",
    "        # 使用基本面分析预测\n",
    "        prediction = trend_analysis(historical_data)\n",
    "    else:\n",
    "        # 随机预测\n",
    "        historical_data = historical_data[\"Open\"]\n",
    "        prediction = historical_data.iloc[-1] * np.random.normal(1, 0.05)  # 假设5%的波动\n",
    "    return prediction\n",
    "\n",
    "#Modifies df_multiple inplace\n",
    "def update_accounts(df_multiple, trades, date):\n",
    "    previous = date - timedelta(days = 1)\n",
    "    columns_to_copy = ['cash','holdings', 'wealth']\n",
    "    \n",
    "    # Initialize today's financial state with yesterday's data if not already present\n",
    "    df_multiple.loc[(date, slice(None)), columns_to_copy] = df_multiple.loc[(previous, slice(None)), columns_to_copy].values\n",
    "        \n",
    "    for buyer, seller, trade_price in trades:\n",
    "        # Determine the maximum number of stocks that can be traded\n",
    "        # Assuming each trade involves one stock unit by default unless specified otherwise\n",
    "        \n",
    "        buyer_cash_available = df_multiple.loc[(date, buyer), 'cash']\n",
    "        seller_stocks_available = df_multiple.loc[(date, seller), 'holdings']\n",
    "\n",
    "        # Calculate the number of stocks that can be bought by the buyer\n",
    "        stocks_to_trade = min(buyer_cash_available // trade_price, seller_stocks_available)\n",
    "\n",
    "        # Update buyer's details in df_multiple\n",
    "        df_multiple.loc[(date, buyer), 'cash'] -= trade_price * stocks_to_trade\n",
    "        df_multiple.loc[(date, buyer), 'holdings'] += stocks_to_trade\n",
    "        df_multiple.loc[(date, buyer), 'wealth'] = df_multiple.loc[(date, buyer), 'cash'] + df_multiple.loc[(date, buyer), 'holdings'] * trade_price\n",
    "\n",
    "        # Update seller's details in df_multi\n",
    "        df_multiple.loc[(date, seller), 'cash'] += trade_price * stocks_to_trade\n",
    "        df_multiple.loc[(date, seller), 'holdings'] -=  stocks_to_trade\n",
    "        df_multiple.loc[(date, seller), 'wealth'] = df_multiple.loc[(date, seller), 'cash'] + df_multiple.loc[(date, seller), 'holdings'] * trade_price\n",
    "    pass"
   ],
   "metadata": {
    "collapsed": false,
    "ExecuteTime": {
     "start_time": "2024-04-25T17:42:27.247758Z"
    }
   },
   "id": "87c843a01e982ee9"
  },
  {
   "cell_type": "code",
   "execution_count": null,
   "outputs": [],
   "source": [
    "def strategy(df_multiple, test_period) -> int:\n",
    "    stock_df_copy = stock_df.copy()\n",
    "    Open_price = stock_df[\"Open\"]\n",
    "    all_dates = stock_df.index\n",
    "    test_date = all_dates[-test_period:]\n",
    "    investor_num = df_multiple.index.get_level_values(1).unique().values\n",
    "    np.random.shuffle(investor_num)\n",
    "    \n",
    "    #每天为一个交易日，模拟100天的交易\n",
    "    for i in tqdm(range(len(test_date))):\n",
    "        date = test_date[i]\n",
    "        np.random.shuffle(investor_num)\n",
    "        order_book = OrderBook()\n",
    "        \n",
    "        for investor in investor_num:\n",
    "\n",
    "            #为每一位投资者预测下一天的价格根据historical price\n",
    "            investor_type = df_multiple.xs(investor,level = 1).iloc[0,1]\n",
    "            prediction = predict_prices(investor_type, stock_df_copy.loc[start:date])\n",
    "            df_multiple.loc[(date,investor),\"Prediction\"]= prediction\n",
    "\n",
    "            # 获取最近n次的成交价格\n",
    "            n = 3\n",
    "            recent_prices = Open_price.loc[date-timedelta(days = n-1):date].values\n",
    "            \n",
    "            #generate order\n",
    "            order_type, price = generate_order(recent_prices, prediction)\n",
    "            order_book.add_order(order_type,price,investor)\n",
    "        \n",
    "        order_book.sort()\n",
    "        trades = order_book.match_orders()\n",
    "        \n",
    "        update_accounts(df_multiple,trades,date)\n",
    "    pass\n",
    "    \n",
    "def main():\n",
    "    df_multiple = origin_info()\n",
    "    #最后五十天为交易周期\n",
    "    test_period = 100\n",
    "    strategy(df_multiple,test_period)\n",
    "    test_period = stock_df.index[-(test_period+1):]\n",
    "    return df_multiple.loc[test_period]\n",
    "df = main()"
   ],
   "metadata": {
    "collapsed": false,
    "ExecuteTime": {
     "start_time": "2024-04-25T17:42:27.249429Z"
    }
   },
   "id": "d3aefd771c4fbf40"
  },
  {
   "cell_type": "code",
   "execution_count": null,
   "outputs": [],
   "source": [
    "df"
   ],
   "metadata": {
    "collapsed": false,
    "ExecuteTime": {
     "start_time": "2024-04-25T17:42:27.250740Z"
    }
   },
   "id": "3b16b0944fe6f565"
  },
  {
   "cell_type": "code",
   "execution_count": null,
   "outputs": [],
   "source": [
    "# Plot setup\n",
    "plt.figure(figsize=(10,6))\n",
    "\n",
    "# Loop through each investor and plot their wealth data\n",
    "for investor_no in range(50):\n",
    "    wealth = df.xs(investor_no, level=1)['wealth']\n",
    "    plt.plot(wealth.index, wealth, label=f'Investor {investor_no}')\n",
    "\n",
    "# Optionally, you can uncomment the following line to display a legend\n",
    "# plt.legend()\n",
    "\n",
    "plt.title(\"Wealth Change for Investors 1-100\")\n",
    "plt.xlabel(\"Date\")\n",
    "plt.ylabel(\"Wealth\")\n",
    "plt.legend()\n",
    "plt.show()"
   ],
   "metadata": {
    "collapsed": false,
    "ExecuteTime": {
     "start_time": "2024-04-25T17:42:27.251696Z"
    }
   },
   "id": "1d77455952569b93"
  },
  {
   "cell_type": "raw",
   "source": [
    "#Task 2 尝试大类资产配置模型，也就是常见的最小方差模型，公式为： \n",
    "\n",
    "Σ \\SigmaΣ表示各个资产间的协方差矩阵，我们将选取三个大类资产进行配置，分别是沪深300），债券（上证国债指数000012），南华商品期货指数（NHCI.NH）进行配置。\n"
   ],
   "metadata": {
    "collapsed": false
   },
   "id": "b02676a53cc3d44c"
  },
  {
   "cell_type": "code",
   "execution_count": null,
   "outputs": [],
   "source": [
    "# coding=utf-8\n",
    "import jqdatasdk as jq\n",
    "import pandas as pd\n",
    "import numpy as np\n",
    "import cvxpy as cp\n",
    "from datetime import datetime\n",
    "from scipy import stats, integrate\n",
    "\n",
    "# Authentication with JoinQuant\n",
    "jq.auth('18084028253', 'Ch214199')\n",
    "\n",
    "# Function to fetch data using JoinQuant\n",
    "def fetch_data(code, start_date='20230116', end_date='20240123'):\n",
    "    df = jq.get_price(code, start_date=start_date, end_date=end_date, frequency='daily', fields=['close'])\n",
    "    df['close'] = df['close'] / df['close'].iloc[0]  # Normalize to calculate net value\n",
    "    return df['close']\n",
    "\n",
    "# Fetch data for different indices\n",
    "#上证商品\n",
    "ret_nh = fetch_data(\"000066.XSHG\").values  # Adjust the symbol according to actual availability in JoinQuant\n",
    "#沪深300\n",
    "ret_hs300 = fetch_data('000300.XSHG').values\n",
    "#上证国债指数000012\n",
    "ret_sz = fetch_data('000012.XSHG').values  # Shenzhen Component Index\n",
    "\n",
    "# df=jq.get_all_securities(types=['index'])\n",
    "# df[df.display_name.str.contains(\"商品\")]"
   ],
   "metadata": {
    "collapsed": false,
    "ExecuteTime": {
     "start_time": "2024-04-25T17:42:27.252970Z"
    }
   },
   "id": "580eb0194a00d904"
  },
  {
   "cell_type": "code",
   "execution_count": null,
   "outputs": [],
   "source": [
    "price = np.stack([ret_hs300, ret_sz, ret_nh], axis=1)\n",
    "price = pd.DataFrame(data = price, columns=[\"沪深300\",\"上证国债指数\",\"上证商品期货\"])\n",
    "\n",
    "ret = price.pct_change().dropna()\n",
    "ret"
   ],
   "metadata": {
    "collapsed": false,
    "ExecuteTime": {
     "start_time": "2024-04-25T17:42:27.254090Z"
    }
   },
   "id": "45b990630a46b09f"
  },
  {
   "cell_type": "code",
   "execution_count": 14,
   "outputs": [
    {
     "ename": "NameError",
     "evalue": "name 'ret' is not defined",
     "output_type": "error",
     "traceback": [
      "\u001B[0;31m---------------------------------------------------------------------------\u001B[0m",
      "\u001B[0;31mNameError\u001B[0m                                 Traceback (most recent call last)",
      "Cell \u001B[0;32mIn[14], line 36\u001B[0m\n\u001B[1;32m     34\u001B[0m bounds \u001B[38;5;241m=\u001B[39m ((\u001B[38;5;241m0\u001B[39m, \u001B[38;5;241m1\u001B[39m), (\u001B[38;5;241m0\u001B[39m, \u001B[38;5;241m1\u001B[39m), (\u001B[38;5;241m0\u001B[39m, \u001B[38;5;241m1\u001B[39m)) \u001B[38;5;66;03m# weights bounds\u001B[39;00m\n\u001B[1;32m     35\u001B[0m x0 \u001B[38;5;241m=\u001B[39m [\u001B[38;5;241m0.33\u001B[39m, \u001B[38;5;241m0.33\u001B[39m, \u001B[38;5;241m0.33\u001B[39m] \u001B[38;5;66;03m# starting point for optimization\u001B[39;00m\n\u001B[0;32m---> 36\u001B[0m optim_ptf \u001B[38;5;241m=\u001B[39m \u001B[43moptimize_portfolio\u001B[49m\u001B[43m(\u001B[49m\u001B[43mbounds\u001B[49m\u001B[43m,\u001B[49m\u001B[43mx0\u001B[49m\u001B[43m)\u001B[49m\n\u001B[1;32m     37\u001B[0m opt_ret \u001B[38;5;241m=\u001B[39m np\u001B[38;5;241m.\u001B[39msum(ret\u001B[38;5;241m.\u001B[39mmean() \u001B[38;5;241m*\u001B[39m optim_ptf\u001B[38;5;241m.\u001B[39mx) \u001B[38;5;241m*\u001B[39m \u001B[38;5;241m252\u001B[39m\n\u001B[1;32m     38\u001B[0m opt_vola \u001B[38;5;241m=\u001B[39m np\u001B[38;5;241m.\u001B[39msqrt(np\u001B[38;5;241m.\u001B[39mdot(optim_ptf\u001B[38;5;241m.\u001B[39mx\u001B[38;5;241m.\u001B[39mT, np\u001B[38;5;241m.\u001B[39mdot(ret\u001B[38;5;241m.\u001B[39mcov() \u001B[38;5;241m*\u001B[39m \u001B[38;5;241m252\u001B[39m, optim_ptf\u001B[38;5;241m.\u001B[39mx)))\n",
      "Cell \u001B[0;32mIn[14], line 30\u001B[0m, in \u001B[0;36moptimize_portfolio\u001B[0;34m(bounds, x0)\u001B[0m\n\u001B[1;32m     26\u001B[0m \u001B[38;5;28;01mdef\u001B[39;00m \u001B[38;5;21moptimize_portfolio\u001B[39m(bounds, x0):\n\u001B[1;32m     27\u001B[0m     constraints \u001B[38;5;241m=\u001B[39m (\n\u001B[1;32m     28\u001B[0m         {\u001B[38;5;124m'\u001B[39m\u001B[38;5;124mtype\u001B[39m\u001B[38;5;124m'\u001B[39m: \u001B[38;5;124m'\u001B[39m\u001B[38;5;124meq\u001B[39m\u001B[38;5;124m'\u001B[39m, \u001B[38;5;124m'\u001B[39m\u001B[38;5;124mfun\u001B[39m\u001B[38;5;124m'\u001B[39m: weights_const}  \u001B[38;5;66;03m# 使用R作为参数\u001B[39;00m\n\u001B[1;32m     29\u001B[0m     )\n\u001B[0;32m---> 30\u001B[0m     optim_ptf \u001B[38;5;241m=\u001B[39m \u001B[43moptimize\u001B[49m\u001B[38;5;241;43m.\u001B[39;49m\u001B[43mminimize\u001B[49m\u001B[43m(\u001B[49m\u001B[43mget_vola\u001B[49m\u001B[43m,\u001B[49m\u001B[43m \u001B[49m\u001B[43mx0\u001B[49m\u001B[43m,\u001B[49m\u001B[43m \u001B[49m\u001B[43mmethod\u001B[49m\u001B[38;5;241;43m=\u001B[39;49m\u001B[38;5;124;43m'\u001B[39;49m\u001B[38;5;124;43mSLSQP\u001B[39;49m\u001B[38;5;124;43m'\u001B[39;49m\u001B[43m,\u001B[49m\u001B[43m \u001B[49m\u001B[43mbounds\u001B[49m\u001B[38;5;241;43m=\u001B[39;49m\u001B[43mbounds\u001B[49m\u001B[43m,\u001B[49m\u001B[43m \u001B[49m\u001B[43mconstraints\u001B[49m\u001B[38;5;241;43m=\u001B[39;49m\u001B[43mconstraints\u001B[49m\u001B[43m)\u001B[49m\n\u001B[1;32m     31\u001B[0m     \u001B[38;5;28;01mreturn\u001B[39;00m optim_ptf\n",
      "File \u001B[0;32m/opt/miniconda3/envs/Morgan_Stanley/lib/python3.8/site-packages/scipy/optimize/_minimize.py:705\u001B[0m, in \u001B[0;36mminimize\u001B[0;34m(fun, x0, args, method, jac, hess, hessp, bounds, constraints, tol, callback, options)\u001B[0m\n\u001B[1;32m    702\u001B[0m     res \u001B[38;5;241m=\u001B[39m _minimize_cobyla(fun, x0, args, constraints, callback\u001B[38;5;241m=\u001B[39mcallback,\n\u001B[1;32m    703\u001B[0m                             \u001B[38;5;241m*\u001B[39m\u001B[38;5;241m*\u001B[39moptions)\n\u001B[1;32m    704\u001B[0m \u001B[38;5;28;01melif\u001B[39;00m meth \u001B[38;5;241m==\u001B[39m \u001B[38;5;124m'\u001B[39m\u001B[38;5;124mslsqp\u001B[39m\u001B[38;5;124m'\u001B[39m:\n\u001B[0;32m--> 705\u001B[0m     res \u001B[38;5;241m=\u001B[39m \u001B[43m_minimize_slsqp\u001B[49m\u001B[43m(\u001B[49m\u001B[43mfun\u001B[49m\u001B[43m,\u001B[49m\u001B[43m \u001B[49m\u001B[43mx0\u001B[49m\u001B[43m,\u001B[49m\u001B[43m \u001B[49m\u001B[43margs\u001B[49m\u001B[43m,\u001B[49m\u001B[43m \u001B[49m\u001B[43mjac\u001B[49m\u001B[43m,\u001B[49m\u001B[43m \u001B[49m\u001B[43mbounds\u001B[49m\u001B[43m,\u001B[49m\n\u001B[1;32m    706\u001B[0m \u001B[43m                          \u001B[49m\u001B[43mconstraints\u001B[49m\u001B[43m,\u001B[49m\u001B[43m \u001B[49m\u001B[43mcallback\u001B[49m\u001B[38;5;241;43m=\u001B[39;49m\u001B[43mcallback\u001B[49m\u001B[43m,\u001B[49m\u001B[43m \u001B[49m\u001B[38;5;241;43m*\u001B[39;49m\u001B[38;5;241;43m*\u001B[39;49m\u001B[43moptions\u001B[49m\u001B[43m)\u001B[49m\n\u001B[1;32m    707\u001B[0m \u001B[38;5;28;01melif\u001B[39;00m meth \u001B[38;5;241m==\u001B[39m \u001B[38;5;124m'\u001B[39m\u001B[38;5;124mtrust-constr\u001B[39m\u001B[38;5;124m'\u001B[39m:\n\u001B[1;32m    708\u001B[0m     res \u001B[38;5;241m=\u001B[39m _minimize_trustregion_constr(fun, x0, args, jac, hess, hessp,\n\u001B[1;32m    709\u001B[0m                                        bounds, constraints,\n\u001B[1;32m    710\u001B[0m                                        callback\u001B[38;5;241m=\u001B[39mcallback, \u001B[38;5;241m*\u001B[39m\u001B[38;5;241m*\u001B[39moptions)\n",
      "File \u001B[0;32m/opt/miniconda3/envs/Morgan_Stanley/lib/python3.8/site-packages/scipy/optimize/_slsqp_py.py:374\u001B[0m, in \u001B[0;36m_minimize_slsqp\u001B[0;34m(func, x0, args, jac, bounds, constraints, maxiter, ftol, iprint, disp, eps, callback, finite_diff_rel_step, **unknown_options)\u001B[0m\n\u001B[1;32m    371\u001B[0m     xu[infbnd[:, \u001B[38;5;241m1\u001B[39m]] \u001B[38;5;241m=\u001B[39m np\u001B[38;5;241m.\u001B[39mnan\n\u001B[1;32m    373\u001B[0m \u001B[38;5;66;03m# ScalarFunction provides function and gradient evaluation\u001B[39;00m\n\u001B[0;32m--> 374\u001B[0m sf \u001B[38;5;241m=\u001B[39m \u001B[43m_prepare_scalar_function\u001B[49m\u001B[43m(\u001B[49m\u001B[43mfunc\u001B[49m\u001B[43m,\u001B[49m\u001B[43m \u001B[49m\u001B[43mx\u001B[49m\u001B[43m,\u001B[49m\u001B[43m \u001B[49m\u001B[43mjac\u001B[49m\u001B[38;5;241;43m=\u001B[39;49m\u001B[43mjac\u001B[49m\u001B[43m,\u001B[49m\u001B[43m \u001B[49m\u001B[43margs\u001B[49m\u001B[38;5;241;43m=\u001B[39;49m\u001B[43margs\u001B[49m\u001B[43m,\u001B[49m\u001B[43m \u001B[49m\u001B[43mepsilon\u001B[49m\u001B[38;5;241;43m=\u001B[39;49m\u001B[43meps\u001B[49m\u001B[43m,\u001B[49m\n\u001B[1;32m    375\u001B[0m \u001B[43m                              \u001B[49m\u001B[43mfinite_diff_rel_step\u001B[49m\u001B[38;5;241;43m=\u001B[39;49m\u001B[43mfinite_diff_rel_step\u001B[49m\u001B[43m,\u001B[49m\n\u001B[1;32m    376\u001B[0m \u001B[43m                              \u001B[49m\u001B[43mbounds\u001B[49m\u001B[38;5;241;43m=\u001B[39;49m\u001B[43mnew_bounds\u001B[49m\u001B[43m)\u001B[49m\n\u001B[1;32m    377\u001B[0m \u001B[38;5;66;03m# gh11403 SLSQP sometimes exceeds bounds by 1 or 2 ULP, make sure this\u001B[39;00m\n\u001B[1;32m    378\u001B[0m \u001B[38;5;66;03m# doesn't get sent to the func/grad evaluator.\u001B[39;00m\n\u001B[1;32m    379\u001B[0m wrapped_fun \u001B[38;5;241m=\u001B[39m _clip_x_for_func(sf\u001B[38;5;241m.\u001B[39mfun, new_bounds)\n",
      "File \u001B[0;32m/opt/miniconda3/envs/Morgan_Stanley/lib/python3.8/site-packages/scipy/optimize/_optimize.py:332\u001B[0m, in \u001B[0;36m_prepare_scalar_function\u001B[0;34m(fun, x0, jac, args, bounds, epsilon, finite_diff_rel_step, hess)\u001B[0m\n\u001B[1;32m    328\u001B[0m     bounds \u001B[38;5;241m=\u001B[39m (\u001B[38;5;241m-\u001B[39mnp\u001B[38;5;241m.\u001B[39minf, np\u001B[38;5;241m.\u001B[39minf)\n\u001B[1;32m    330\u001B[0m \u001B[38;5;66;03m# ScalarFunction caches. Reuse of fun(x) during grad\u001B[39;00m\n\u001B[1;32m    331\u001B[0m \u001B[38;5;66;03m# calculation reduces overall function evaluations.\u001B[39;00m\n\u001B[0;32m--> 332\u001B[0m sf \u001B[38;5;241m=\u001B[39m \u001B[43mScalarFunction\u001B[49m\u001B[43m(\u001B[49m\u001B[43mfun\u001B[49m\u001B[43m,\u001B[49m\u001B[43m \u001B[49m\u001B[43mx0\u001B[49m\u001B[43m,\u001B[49m\u001B[43m \u001B[49m\u001B[43margs\u001B[49m\u001B[43m,\u001B[49m\u001B[43m \u001B[49m\u001B[43mgrad\u001B[49m\u001B[43m,\u001B[49m\u001B[43m \u001B[49m\u001B[43mhess\u001B[49m\u001B[43m,\u001B[49m\n\u001B[1;32m    333\u001B[0m \u001B[43m                    \u001B[49m\u001B[43mfinite_diff_rel_step\u001B[49m\u001B[43m,\u001B[49m\u001B[43m \u001B[49m\u001B[43mbounds\u001B[49m\u001B[43m,\u001B[49m\u001B[43m \u001B[49m\u001B[43mepsilon\u001B[49m\u001B[38;5;241;43m=\u001B[39;49m\u001B[43mepsilon\u001B[49m\u001B[43m)\u001B[49m\n\u001B[1;32m    335\u001B[0m \u001B[38;5;28;01mreturn\u001B[39;00m sf\n",
      "File \u001B[0;32m/opt/miniconda3/envs/Morgan_Stanley/lib/python3.8/site-packages/scipy/optimize/_differentiable_functions.py:158\u001B[0m, in \u001B[0;36mScalarFunction.__init__\u001B[0;34m(self, fun, x0, args, grad, hess, finite_diff_rel_step, finite_diff_bounds, epsilon)\u001B[0m\n\u001B[1;32m    155\u001B[0m     \u001B[38;5;28mself\u001B[39m\u001B[38;5;241m.\u001B[39mf \u001B[38;5;241m=\u001B[39m fun_wrapped(\u001B[38;5;28mself\u001B[39m\u001B[38;5;241m.\u001B[39mx)\n\u001B[1;32m    157\u001B[0m \u001B[38;5;28mself\u001B[39m\u001B[38;5;241m.\u001B[39m_update_fun_impl \u001B[38;5;241m=\u001B[39m update_fun\n\u001B[0;32m--> 158\u001B[0m \u001B[38;5;28;43mself\u001B[39;49m\u001B[38;5;241;43m.\u001B[39;49m\u001B[43m_update_fun\u001B[49m\u001B[43m(\u001B[49m\u001B[43m)\u001B[49m\n\u001B[1;32m    160\u001B[0m \u001B[38;5;66;03m# Gradient evaluation\u001B[39;00m\n\u001B[1;32m    161\u001B[0m \u001B[38;5;28;01mif\u001B[39;00m \u001B[38;5;28mcallable\u001B[39m(grad):\n",
      "File \u001B[0;32m/opt/miniconda3/envs/Morgan_Stanley/lib/python3.8/site-packages/scipy/optimize/_differentiable_functions.py:251\u001B[0m, in \u001B[0;36mScalarFunction._update_fun\u001B[0;34m(self)\u001B[0m\n\u001B[1;32m    249\u001B[0m \u001B[38;5;28;01mdef\u001B[39;00m \u001B[38;5;21m_update_fun\u001B[39m(\u001B[38;5;28mself\u001B[39m):\n\u001B[1;32m    250\u001B[0m     \u001B[38;5;28;01mif\u001B[39;00m \u001B[38;5;129;01mnot\u001B[39;00m \u001B[38;5;28mself\u001B[39m\u001B[38;5;241m.\u001B[39mf_updated:\n\u001B[0;32m--> 251\u001B[0m         \u001B[38;5;28;43mself\u001B[39;49m\u001B[38;5;241;43m.\u001B[39;49m\u001B[43m_update_fun_impl\u001B[49m\u001B[43m(\u001B[49m\u001B[43m)\u001B[49m\n\u001B[1;32m    252\u001B[0m         \u001B[38;5;28mself\u001B[39m\u001B[38;5;241m.\u001B[39mf_updated \u001B[38;5;241m=\u001B[39m \u001B[38;5;28;01mTrue\u001B[39;00m\n",
      "File \u001B[0;32m/opt/miniconda3/envs/Morgan_Stanley/lib/python3.8/site-packages/scipy/optimize/_differentiable_functions.py:155\u001B[0m, in \u001B[0;36mScalarFunction.__init__.<locals>.update_fun\u001B[0;34m()\u001B[0m\n\u001B[1;32m    154\u001B[0m \u001B[38;5;28;01mdef\u001B[39;00m \u001B[38;5;21mupdate_fun\u001B[39m():\n\u001B[0;32m--> 155\u001B[0m     \u001B[38;5;28mself\u001B[39m\u001B[38;5;241m.\u001B[39mf \u001B[38;5;241m=\u001B[39m \u001B[43mfun_wrapped\u001B[49m\u001B[43m(\u001B[49m\u001B[38;5;28;43mself\u001B[39;49m\u001B[38;5;241;43m.\u001B[39;49m\u001B[43mx\u001B[49m\u001B[43m)\u001B[49m\n",
      "File \u001B[0;32m/opt/miniconda3/envs/Morgan_Stanley/lib/python3.8/site-packages/scipy/optimize/_differentiable_functions.py:137\u001B[0m, in \u001B[0;36mScalarFunction.__init__.<locals>.fun_wrapped\u001B[0;34m(x)\u001B[0m\n\u001B[1;32m    133\u001B[0m \u001B[38;5;28mself\u001B[39m\u001B[38;5;241m.\u001B[39mnfev \u001B[38;5;241m+\u001B[39m\u001B[38;5;241m=\u001B[39m \u001B[38;5;241m1\u001B[39m\n\u001B[1;32m    134\u001B[0m \u001B[38;5;66;03m# Send a copy because the user may overwrite it.\u001B[39;00m\n\u001B[1;32m    135\u001B[0m \u001B[38;5;66;03m# Overwriting results in undefined behaviour because\u001B[39;00m\n\u001B[1;32m    136\u001B[0m \u001B[38;5;66;03m# fun(self.x) will change self.x, with the two no longer linked.\u001B[39;00m\n\u001B[0;32m--> 137\u001B[0m fx \u001B[38;5;241m=\u001B[39m \u001B[43mfun\u001B[49m\u001B[43m(\u001B[49m\u001B[43mnp\u001B[49m\u001B[38;5;241;43m.\u001B[39;49m\u001B[43mcopy\u001B[49m\u001B[43m(\u001B[49m\u001B[43mx\u001B[49m\u001B[43m)\u001B[49m\u001B[43m,\u001B[49m\u001B[43m \u001B[49m\u001B[38;5;241;43m*\u001B[39;49m\u001B[43margs\u001B[49m\u001B[43m)\u001B[49m\n\u001B[1;32m    138\u001B[0m \u001B[38;5;66;03m# Make sure the function returns a true scalar\u001B[39;00m\n\u001B[1;32m    139\u001B[0m \u001B[38;5;28;01mif\u001B[39;00m \u001B[38;5;129;01mnot\u001B[39;00m np\u001B[38;5;241m.\u001B[39misscalar(fx):\n",
      "Cell \u001B[0;32mIn[14], line 18\u001B[0m, in \u001B[0;36mget_vola\u001B[0;34m(w)\u001B[0m\n\u001B[1;32m     16\u001B[0m \u001B[38;5;28;01mdef\u001B[39;00m \u001B[38;5;21mget_vola\u001B[39m(w):\n\u001B[1;32m     17\u001B[0m     w \u001B[38;5;241m=\u001B[39m np\u001B[38;5;241m.\u001B[39marray(w)\n\u001B[0;32m---> 18\u001B[0m     vola_w \u001B[38;5;241m=\u001B[39m np\u001B[38;5;241m.\u001B[39msqrt(np\u001B[38;5;241m.\u001B[39mdot(w\u001B[38;5;241m.\u001B[39mT, np\u001B[38;5;241m.\u001B[39mdot(\u001B[43mret\u001B[49m\u001B[38;5;241m.\u001B[39mcov() \u001B[38;5;241m*\u001B[39m \u001B[38;5;241m252\u001B[39m, w)))\n\u001B[1;32m     19\u001B[0m     \u001B[38;5;28;01mreturn\u001B[39;00m vola_w\n",
      "\u001B[0;31mNameError\u001B[0m: name 'ret' is not defined"
     ]
    }
   ],
   "source": [
    "#Task 2&3.对选取的三只asset进行收益率数据分析，进行给定预期收益的最佳持仓配比求解\n",
    "from scipy import optimize\n",
    "\n",
    "# Find optimal portfolio with lowest variance return:\n",
    "# 修改权重和为1的约束函数，使其不接受外部参数\n",
    "def weights_const(w):\n",
    "    return np.sum(w) - 1\n",
    "\n",
    "# 返回满足特定收益率R的约束函数\n",
    "# def return_constraint(R):\n",
    "#     def constraint(w):\n",
    "#         return np.sum(ret.mean() * w) * 252 - R\n",
    "#     return constraint\n",
    "\n",
    "# 方差最小化函数不变\n",
    "def get_vola(w):\n",
    "    w = np.array(w)\n",
    "    vola_w = np.sqrt(np.dot(w.T, np.dot(ret.cov() * 252, w)))\n",
    "    return vola_w\n",
    "\n",
    "def get_ret(w):\n",
    "    w = np.array(w)\n",
    "    ret_w = np.sum(ret.mean() * w) * 252\n",
    "    return ret_w\n",
    "\n",
    "def optimize_portfolio(bounds, x0):\n",
    "    constraints = (\n",
    "        {'type': 'eq', 'fun': weights_const}  # 使用R作为参数\n",
    "    )\n",
    "    optim_ptf = optimize.minimize(get_vola, x0, method='SLSQP', bounds=bounds, constraints=constraints)\n",
    "    return optim_ptf\n",
    "\n",
    "const = ({'type': 'eq', 'fun': weights_const}) # optimization constraints\n",
    "bounds = ((0, 1), (0, 1), (0, 1)) # weights bounds\n",
    "x0 = [0.33, 0.33, 0.33] # starting point for optimization\n",
    "optim_ptf = optimize_portfolio(bounds,x0)\n",
    "opt_ret = np.sum(ret.mean() * optim_ptf.x) * 252\n",
    "opt_vola = np.sqrt(np.dot(optim_ptf.x.T, np.dot(ret.cov() * 252, optim_ptf.x)))\n",
    "opt_sr = opt_ret / opt_vola\n",
    "\n",
    "print(\"Optimal weights:\", np.round(optim_ptf.x*100,2), \"%\")\n",
    "print(\"Optimal return:\", opt_ret)\n",
    "print(\"Optimal volatility:\", opt_vola)\n",
    "print(\"Optimal Sharpe ratio:\", opt_sr)\n",
    "print(\"股票： %.2f  债券： %.2f    商品期货：%.2f\" %(optim_ptf.x[0],optim_ptf.x[1],optim_ptf.x[2]))"
   ],
   "metadata": {
    "collapsed": false,
    "ExecuteTime": {
     "end_time": "2024-04-25T18:49:03.352763Z",
     "start_time": "2024-04-25T18:48:57.709674Z"
    }
   },
   "id": "b3a44a9f61ef968e"
  },
  {
   "cell_type": "code",
   "execution_count": 10,
   "outputs": [],
   "source": [
    "import sys\n",
    "import os\n",
    "import re\n",
    "import glob\n",
    "import datetime as dt\n",
    "\n",
    "import numpy as np\n",
    "import pandas as pd\n",
    "%matplotlib inline\n",
    "import matplotlib\n",
    "import matplotlib.pyplot as plt\n",
    "from matplotlib.colors import LinearSegmentedColormap\n",
    "\n",
    "from mosek.fusion import *\n",
    "\n",
    "#from notebook.services.config import ConfigManager\n",
    "\n",
    "#from portfolio_tools import data_download, DataReader"
   ],
   "metadata": {
    "collapsed": false,
    "ExecuteTime": {
     "end_time": "2024-04-25T18:46:44.074331Z",
     "start_time": "2024-04-25T18:46:44.065973Z"
    }
   },
   "id": "eefb45346c12830"
  },
  {
   "cell_type": "code",
   "execution_count": 16,
   "outputs": [],
   "source": [
    "# Define function solving the optimization model\n",
    "def Markowitz(N, m, G, gamma2):\n",
    "    with Model(\"markowitz\") as M:\n",
    "        # Settings\n",
    "        M.setLogHandler(sys.stdout)\n",
    "\n",
    "        # Decision variable (fraction of holdings in each security)\n",
    "        # The variable x is restricted to be positive, which imposes the constraint of no short-selling.   \n",
    "        x = M.variable(\"x\", N, Domain.greaterThan(0.0))\n",
    "\n",
    "        # Budget constraint\n",
    "        M.constraint('budget', Expr.sum(x), Domain.equalsTo(1))\n",
    "\n",
    "        # Objective \n",
    "        M.objective('obj', ObjectiveSense.Maximize, Expr.dot(m, x))\n",
    "\n",
    "        # Imposes a bound on the risk\n",
    "        #M.constraint('risk', Expr.vstack(gamma2, 0.5, Expr.mul(G.transpose(), x)), Domain.inRotatedQCone())\n",
    "\n",
    "        # Solve optimization\n",
    "        M.solve()\n",
    "\n",
    "        # Check if the solution is an optimal point\n",
    "        solsta = M.getPrimalSolutionStatus()\n",
    "        if (solsta != SolutionStatus.Optimal):\n",
    "            # See https://docs.mosek.com/latest/pythonfusion/accessing-solution.html about handling solution statuses.\n",
    "            raise Exception(\"Unexpected solution status!\")\n",
    "\n",
    "        returns = M.primalObjValue()\n",
    "        portfolio = x.level()\n",
    "\n",
    "    return returns, portfolio"
   ],
   "metadata": {
    "collapsed": false,
    "ExecuteTime": {
     "end_time": "2024-04-25T19:12:16.317361Z",
     "start_time": "2024-04-25T19:12:16.306331Z"
    }
   },
   "id": "1131af0bd8681ea"
  },
  {
   "cell_type": "code",
   "execution_count": 17,
   "outputs": [
    {
     "name": "stdout",
     "output_type": "stream",
     "text": [
      "Problem\n",
      "  Name                   : markowitz       \n",
      "  Objective sense        : maximize        \n",
      "  Type                   : LO (linear optimization problem)\n",
      "  Constraints            : 1               \n",
      "  Affine conic cons.     : 0               \n",
      "  Disjunctive cons.      : 0               \n",
      "  Cones                  : 0               \n",
      "  Scalar variables       : 9               \n",
      "  Matrix variables       : 0               \n",
      "  Integer variables      : 0               \n",
      "\n",
      "Optimizer started.\n",
      "Presolve started.\n",
      "Eliminator started.\n",
      "Freed constraints in eliminator : 0\n",
      "Eliminator terminated.\n",
      "Eliminator - tries                  : 1                 time                   : 0.00            \n",
      "Lin. dep.  - tries                  : 0                 time                   : 0.00            \n",
      "Lin. dep.  - primal attempts        : 0                 successes              : 0               \n",
      "Lin. dep.  - dual attempts          : 0                 successes              : 0               \n",
      "Lin. dep.  - primal deps.           : 0                 dual deps.             : 0               \n",
      "Presolve terminated. Time: 0.00    \n",
      "Optimizer terminated. Time: 0.01    \n",
      "\n",
      "\n",
      "Interior-point solution summary\n",
      "  Problem status  : PRIMAL_AND_DUAL_FEASIBLE\n",
      "  Solution status : OPTIMAL\n",
      "  Primal.  obj: 4.2895777000e-01    nrm: 1e+00    Viol.  con: 0e+00    var: 0e+00  \n",
      "  Dual.    obj: 4.2895777000e-01    nrm: 4e-01    Viol.  con: 0e+00    var: 0e+00  \n",
      "\n",
      "Basic solution summary\n",
      "  Problem status  : PRIMAL_AND_DUAL_FEASIBLE\n",
      "  Solution status : OPTIMAL\n",
      "  Primal.  obj: 4.2895777000e-01    nrm: 1e+00    Viol.  con: 0e+00    var: 0e+00  \n",
      "  Dual.    obj: 4.2895777000e-01    nrm: 4e-01    Viol.  con: 0e+00    var: 0e+00  \n",
      "========================\n",
      "\n",
      "RESULTS:\n",
      "Optimal expected portfolio return: 42.8958%\n",
      "Optimal portfolio weights: [0. 0. 0. 0. 1. 0. 0. 0.]\n",
      "Sum of weights: 1.0\n"
     ]
    }
   ],
   "source": [
    "mu = np.array([0.07197349, 0.15518171, 0.17535435, 0.0898094 , 0.42895777, 0.39291844, 0.32170722, 0.18378628])\n",
    "Sigma = np.array([\n",
    "    [0.09460323, 0.03735969, 0.03488376, 0.03483838, 0.05420885, 0.03682539, 0.03209623, 0.03271886],\n",
    "    [0.03735969, 0.07746293, 0.03868215, 0.03670678, 0.03816653, 0.03634422, 0.0356449 , 0.03422235],\n",
    "    [0.03488376, 0.03868215, 0.06241065, 0.03364444, 0.03949475, 0.03690811, 0.03383847, 0.02433733],\n",
    "    [0.03483838, 0.03670678, 0.03364444, 0.06824955, 0.04017978, 0.03348263, 0.04360484, 0.03713009],\n",
    "    [0.05420885, 0.03816653, 0.03949475, 0.04017978, 0.17243352, 0.07886889, 0.06999607, 0.05010711],\n",
    "    [0.03682539, 0.03634422, 0.03690811, 0.03348263, 0.07886889, 0.09093307, 0.05364518, 0.04489357],\n",
    "    [0.03209623, 0.0356449 , 0.03383847, 0.04360484, 0.06999607, 0.05364518, 0.09649728, 0.04419974],\n",
    "    [0.03271886, 0.03422235, 0.02433733, 0.03713009, 0.05010711, 0.04489357, 0.04419974, 0.08159633]\n",
    "])\n",
    "\n",
    "N = mu.shape[0]  # Number of securities\n",
    "gamma2 = 0.05   # Risk limit (variance)\n",
    "\n",
    "G = np.linalg.cholesky(Sigma)  # Cholesky factor of S to use in conic risk constraint \n",
    "# Run optimization \n",
    "f, x = Markowitz(N, mu, G, gamma2)\n",
    "print(\"========================\\n\")\n",
    "print(\"RESULTS:\")\n",
    "print(f\"Optimal expected portfolio return: {f*100:.4f}%\")\n",
    "print(f\"Optimal portfolio weights: {x}\")\n",
    "print(f\"Sum of weights: {np.sum(x)}\")"
   ],
   "metadata": {
    "collapsed": false,
    "ExecuteTime": {
     "end_time": "2024-04-25T19:12:17.618673Z",
     "start_time": "2024-04-25T19:12:17.589626Z"
    }
   },
   "id": "b51992dbb56e8358"
  },
  {
   "cell_type": "code",
   "execution_count": 15,
   "outputs": [
    {
     "name": "stdout",
     "output_type": "stream",
     "text": [
      "Optimal expected portfolio return: 27.6717%\n",
      "Optimal portfolio weights: [8.01278769e-08 9.12691841e-02 2.69097739e-01 1.14489110e-07\n",
      " 2.52926398e-02 3.21630359e-01 1.76525071e-01 1.16184804e-01]\n",
      "Sum of weights: 0.9999999915854186\n"
     ]
    }
   ],
   "source": [
    "temp,temp1 = f,x\n",
    "print(f\"Optimal expected portfolio return: {temp*100:.4f}%\")\n",
    "print(f\"Optimal portfolio weights: {temp1}\")\n",
    "print(f\"Sum of weights: {np.sum(temp1)}\")"
   ],
   "metadata": {
    "collapsed": false,
    "ExecuteTime": {
     "end_time": "2024-04-25T19:12:10.316064Z",
     "start_time": "2024-04-25T19:12:10.301531Z"
    }
   },
   "id": "58f53ed290a9b9e7"
  },
  {
   "cell_type": "code",
   "execution_count": null,
   "outputs": [],
   "source": [],
   "metadata": {
    "collapsed": false
   },
   "id": "5e6f502949c1980c"
  }
 ],
 "metadata": {
  "kernelspec": {
   "display_name": "Python 3",
   "language": "python",
   "name": "python3"
  },
  "language_info": {
   "codemirror_mode": {
    "name": "ipython",
    "version": 2
   },
   "file_extension": ".py",
   "mimetype": "text/x-python",
   "name": "python",
   "nbconvert_exporter": "python",
   "pygments_lexer": "ipython2",
   "version": "2.7.6"
  }
 },
 "nbformat": 4,
 "nbformat_minor": 5
}
