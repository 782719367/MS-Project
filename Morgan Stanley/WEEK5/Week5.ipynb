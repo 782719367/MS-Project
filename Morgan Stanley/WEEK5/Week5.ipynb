{
 "cells": [
  {
   "cell_type": "code",
   "execution_count": 1,
   "id": "0265456d",
   "metadata": {},
   "outputs": [
    {
     "data": {
      "text/plain": "'\\n市场设定：\\n\\n假设市场中共有9位异置投资者：\\n1. 风险偏好设定：风险爱好、风险中性、风险厌恶者各有三位； \\n2. 财富水平设定：两位投资者将在市场中投入一千万元，三位投资者将在市场中投入一百万元，四位投资者将在市场中投入十万元；\\n3. 信息获取能力：投入一千万元的投资者均为机构投资者，投入一百万元的投资者有一位为机构投资者，机构拥有更高的信息获取能力，其余均为散户投资者，信息获取能力较低。\\n\\n具体信息如下：\\n    风险偏好  财富水平 信息获取\\n1号   厌恶     1000万      高\\n2号   中性     1000万      高\\n3号   厌恶     100万       高\\n4号   爱好     100万       低\\n5号   中性     100万       低\\n6号   厌恶     10万        低\\n7号   中性     10万        低\\n8号   爱好     10万        低\\n9号   爱好     10万        低\\n\\n不同禀赋投资者策略设定如下：\\n1. Investor with weak information:\\n(均值回复理论）\\n卖出信号： 当股票的短期波动率明显高于长期波动率时，这被视为市场反应过度，暗示着卖出机会。\\n买入信号： 当股票的短期波动率明显低于长期波动率时，可能预示着未来的上涨，这是一个买入机会。\\n2. Investor with strong information:\\n信息获取能力强的投资者倾向长期持有股票，在每月第一个交易日买入股票，最后一个交易日卖出；\\n3. 风险爱好者买入50%高风险股票，30%中风险股票，20%低风险股票；\\n   风险中性者买入20%高风险股票，60%中风险股票，20%低风险股票；\\n   风险厌恶者买入20%高风险股票，30%中风险股票，50%低风险股票；\\n假设市场仅有三支股票：万科A（000002）、格力电器（000651）、恒瑞医药（600276）\\n'"
     },
     "execution_count": 1,
     "metadata": {},
     "output_type": "execute_result"
    }
   ],
   "source": [
    "\"\"\"\n",
    "市场设定：\n",
    "\n",
    "假设市场中共有9位异置投资者：\n",
    "1. 风险偏好设定：风险爱好、风险中性、风险厌恶者各有三位； \n",
    "2. 财富水平设定：两位投资者将在市场中投入一千万元，三位投资者将在市场中投入一百万元，四位投资者将在市场中投入十万元；\n",
    "3. 信息获取能力：投入一千万元的投资者均为机构投资者，投入一百万元的投资者有一位为机构投资者，机构拥有更高的信息获取能力，其余均为散户投资者，信息获取能力较低。\n",
    "\n",
    "具体信息如下：\n",
    "    风险偏好  财富水平 信息获取\n",
    "1号   厌恶     1000万      高\n",
    "2号   中性     1000万      高\n",
    "3号   厌恶     100万       高\n",
    "4号   爱好     100万       低\n",
    "5号   中性     100万       低\n",
    "6号   厌恶     10万        低\n",
    "7号   中性     10万        低\n",
    "8号   爱好     10万        低\n",
    "9号   爱好     10万        低\n",
    "\n",
    "不同禀赋投资者策略设定如下：\n",
    "1. Investor with weak information:\n",
    "(均值回复理论）\n",
    "卖出信号： 当股票的短期波动率明显高于长期波动率时，这被视为市场反应过度，暗示着卖出机会。\n",
    "买入信号： 当股票的短期波动率明显低于长期波动率时，可能预示着未来的上涨，这是一个买入机会。\n",
    "2. Investor with strong information:\n",
    "信息获取能力强的投资者倾向长期持有股票，在每月第一个交易日买入股票，最后一个交易日卖出；\n",
    "3. 风险爱好者买入50%高风险股票，30%中风险股票，20%低风险股票；\n",
    "   风险中性者买入20%高风险股票，60%中风险股票，20%低风险股票；\n",
    "   风险厌恶者买入20%高风险股票，30%中风险股票，50%低风险股票；\n",
    "假设市场仅有三支股票：万科A（000002）、格力电器（000651）、恒瑞医药（600276）\n",
    "\"\"\"\n",
    "\n",
    "# 1. 风险爱好者买入50%高风险股票，30%中风险股票，20%低风险股票；风险中性者买入20%高风险股票，60%中风险股票，20%低风险股票；风险厌恶者买入20%高风险股票，30%中风险股票，50%低风险股票；\n",
    "# 2. 信息获取能力强的投资者倾向长期持有股票，在每月第一个交易日买入股票，最后一个交易日卖出；信息获取能力弱的投资者倾向短期持有股票，每两天完成一次股票的买入和卖出（第一天买入，第二天卖出，第三天买入，第四天卖出......）。"
   ]
  },
  {
   "cell_type": "code",
   "execution_count": 2,
   "outputs": [],
   "source": [
    "1"
   ],
   "metadata": {
    "collapsed": false
   },
   "id": "73bdf476b567d2a8"
  },
  {
   "cell_type": "code",
   "execution_count": 25,
   "id": "e4b9430d",
   "metadata": {},
   "outputs": [
    {
     "name": "stdout",
     "output_type": "stream",
     "text": [
      "8.196753329089538e-05 6.581731613362592e-06 0.0006816466352776567\n"
     ]
    }
   ],
   "source": [
    "import numpy as np\n",
    "import tushare as ts\n",
    "import pandas as pd\n",
    "import matplotlib.pyplot as plt\n",
    "\n",
    "token='ae7603bac9c9fd3f78f08f0e5f92ec9222c62f488e9e5a28c5002109'\n",
    "#ts.set_token(token)\n",
    "pro = ts.pro_api(token)"
   ]
  },
  {
   "cell_type": "code",
   "execution_count": 40,
   "id": "34d6ffcc",
   "metadata": {},
   "outputs": [
    {
     "data": {
      "text/plain": "   risk    wealth  information\n0   0.0  10000000            1\n1   0.5  10000000            1\n2   0.0   1000000            1\n3   1.0   1000000            0\n4   0.5   1000000            0\n5   0.0    100000            0\n6   0.5    100000            0\n7   1.0    100000            0\n8   1.0    100000            0",
      "text/html": "<div>\n<style scoped>\n    .dataframe tbody tr th:only-of-type {\n        vertical-align: middle;\n    }\n\n    .dataframe tbody tr th {\n        vertical-align: top;\n    }\n\n    .dataframe thead th {\n        text-align: right;\n    }\n</style>\n<table border=\"1\" class=\"dataframe\">\n  <thead>\n    <tr style=\"text-align: right;\">\n      <th></th>\n      <th>risk</th>\n      <th>wealth</th>\n      <th>information</th>\n    </tr>\n  </thead>\n  <tbody>\n    <tr>\n      <th>0</th>\n      <td>0.0</td>\n      <td>10000000</td>\n      <td>1</td>\n    </tr>\n    <tr>\n      <th>1</th>\n      <td>0.5</td>\n      <td>10000000</td>\n      <td>1</td>\n    </tr>\n    <tr>\n      <th>2</th>\n      <td>0.0</td>\n      <td>1000000</td>\n      <td>1</td>\n    </tr>\n    <tr>\n      <th>3</th>\n      <td>1.0</td>\n      <td>1000000</td>\n      <td>0</td>\n    </tr>\n    <tr>\n      <th>4</th>\n      <td>0.5</td>\n      <td>1000000</td>\n      <td>0</td>\n    </tr>\n    <tr>\n      <th>5</th>\n      <td>0.0</td>\n      <td>100000</td>\n      <td>0</td>\n    </tr>\n    <tr>\n      <th>6</th>\n      <td>0.5</td>\n      <td>100000</td>\n      <td>0</td>\n    </tr>\n    <tr>\n      <th>7</th>\n      <td>1.0</td>\n      <td>100000</td>\n      <td>0</td>\n    </tr>\n    <tr>\n      <th>8</th>\n      <td>1.0</td>\n      <td>100000</td>\n      <td>0</td>\n    </tr>\n  </tbody>\n</table>\n</div>"
     },
     "execution_count": 40,
     "metadata": {},
     "output_type": "execute_result"
    }
   ],
   "source": [
    "# 获取市场数据\n",
    "\n",
    "# 定义tushare调取数据函数\n",
    "def fetch_stock_data(stock_code, stock_name, start, end):\n",
    "    df = pro.daily(ts_code=stock_code, start_date=start, end_date=end)\n",
    "    df.index = pd.to_datetime(df[\"trade_date\"])\n",
    "    df = df[\"close\"]\n",
    "    df.name = stock_name\n",
    "    df.index.rename(\"date\",inplace = True)\n",
    "    df.sort_index(inplace=True)\n",
    "    return df\n",
    "\n",
    "# 获取三支股票收盘价格\n",
    "start_date = '20180101'\n",
    "end_date = '20210331'\n",
    "data = pd.DataFrame({'万科A': fetch_stock_data('000002.SZ', '万科A', start_date, end_date),\n",
    "                     '格力电器': fetch_stock_data('000651.SZ', '格力电器', start_date, end_date),\n",
    "                     '恒瑞医药': fetch_stock_data('600276.SH', '恒瑞医药', start_date, end_date)})\n",
    "data = data.dropna()\n",
    "\n",
    "# 计算股票收益率\n",
    "returns = np.log(data.pct_change()+1).dropna()\n",
    "\n",
    "# 测算三支股票风险\n",
    "cov_matrix = np.cov(returns)\n",
    "risk002 = cov_matrix[0, 0]\n",
    "risk651 = cov_matrix[1, 1]\n",
    "risk276 = cov_matrix[2, 2]\n",
    "print(risk002, risk651, risk276)\n",
    "\n",
    "# 股票风险排序：万科A > 恒瑞医药 > 格力电器"
   ]
  },
  {
   "cell_type": "code",
   "execution_count": 41,
   "id": "a1690029",
   "metadata": {},
   "outputs": [],
   "source": [
    "# 存储投资者数据\n",
    "\"\"\"\n",
    "参数设定：\n",
    "risk: 风险厌恶者为0，风险中性者为0.5，风险偏好这为0；\n",
    "information: 获取信息能力强为1，获取信息能力弱为0。\n",
    "\"\"\"\n",
    "investor = pd.DataFrame({'risk': [0, 0.5, 0, 1, 0.5, 0, 0.5, 1, 1],\n",
    "                         'wealth': [10000000, 10000000, 1000000, 1000000, 1000000, 100000, 100000, 100000, 100000],\n",
    "                         'information': [1, 1, 1, 0, 0, 0, 0, 0, 0]})\n",
    "investor"
   ]
  },
  {
   "cell_type": "code",
   "execution_count": 42,
   "id": "43cdb447",
   "metadata": {},
   "outputs": [
    {
     "name": "stderr",
     "output_type": "stream",
     "text": [
      "/var/folders/rf/w1c5pmc51gvg00xtlws6z9nh0000gn/T/ipykernel_17107/1393818674.py:171: DeprecationWarning: Conversion of an array with ndim > 0 to a scalar is deprecated, and will error in future. Ensure you extract a single element from your array before performing this operation. (Deprecated NumPy 1.25.)\n",
      "  signal['stock_high'].values[i] = position_high\n",
      "/var/folders/rf/w1c5pmc51gvg00xtlws6z9nh0000gn/T/ipykernel_17107/1393818674.py:172: DeprecationWarning: Conversion of an array with ndim > 0 to a scalar is deprecated, and will error in future. Ensure you extract a single element from your array before performing this operation. (Deprecated NumPy 1.25.)\n",
      "  signal['stock_median'].values[i] = position_median\n",
      "/var/folders/rf/w1c5pmc51gvg00xtlws6z9nh0000gn/T/ipykernel_17107/1393818674.py:173: DeprecationWarning: Conversion of an array with ndim > 0 to a scalar is deprecated, and will error in future. Ensure you extract a single element from your array before performing this operation. (Deprecated NumPy 1.25.)\n",
      "  signal['stock_low'].values[i] = position_low\n",
      "/var/folders/rf/w1c5pmc51gvg00xtlws6z9nh0000gn/T/ipykernel_17107/1393818674.py:174: DeprecationWarning: Conversion of an array with ndim > 0 to a scalar is deprecated, and will error in future. Ensure you extract a single element from your array before performing this operation. (Deprecated NumPy 1.25.)\n",
      "  signal['money'].values[i] = money\n"
     ]
    },
    {
     "data": {
      "text/plain": "          date  high_risk  median_risk  low_risk month  orders  \\\n0   2018-01-02      68.67        32.56     45.15     1       0   \n1   2018-01-03      68.83        32.33     45.65     1       0   \n2   2018-01-04      70.57        33.12     46.58     1       1   \n3   2018-01-05      70.32        34.76     47.88     1       0   \n4   2018-01-08      71.26        35.99     47.83     1       0   \n..         ...        ...          ...       ...   ...     ...   \n777 2021-03-25      87.23        30.55     61.38     3       0   \n778 2021-03-26      91.22        30.72     61.62     3       0   \n779 2021-03-29      90.53        31.00     62.47     3       0   \n780 2021-03-30      93.60        31.37     62.10     3       0   \n781 2021-03-31      92.09        30.00     62.70     3       0   \n\n     short_term_vol  long_term_vol buy_signal sell_signal  stock_high  \\\n0         32.560000      32.560000      FALSE       FALSE           0   \n1         32.483333      32.518182      FALSE        TRUE           0   \n2         32.695556      32.627603       TRUE       FALSE        4251   \n3         33.383704      33.015312       TRUE       FALSE        4251   \n4         34.252469      33.556164       TRUE       FALSE        4251   \n..              ...            ...        ...         ...         ...   \n777       31.110795      31.392466      FALSE        TRUE           0   \n778       30.980530      31.270200      FALSE        TRUE           0   \n779       30.987020      31.221072      FALSE        TRUE           0   \n780       31.114680      31.248150      FALSE        TRUE           0   \n781       30.743120      31.021214      FALSE        TRUE           0   \n\n     stock_median  stock_low    money       total  \n0               0          0  1000000  1000000.00  \n1               0          0  1000000  1000000.00  \n2           15096       4293       59   999999.53  \n3           15096       4293       59  1029275.12  \n4           15096       4293       59  1051624.49  \n..            ...        ...      ...         ...  \n777             0          0  1217086  1217086.00  \n778             0          0  1217086  1217086.00  \n779             0          0  1217086  1217086.00  \n780             0          0  1217086  1217086.00  \n781             0          0  1217086  1217086.00  \n\n[782 rows x 15 columns]",
      "text/html": "<div>\n<style scoped>\n    .dataframe tbody tr th:only-of-type {\n        vertical-align: middle;\n    }\n\n    .dataframe tbody tr th {\n        vertical-align: top;\n    }\n\n    .dataframe thead th {\n        text-align: right;\n    }\n</style>\n<table border=\"1\" class=\"dataframe\">\n  <thead>\n    <tr style=\"text-align: right;\">\n      <th></th>\n      <th>date</th>\n      <th>high_risk</th>\n      <th>median_risk</th>\n      <th>low_risk</th>\n      <th>month</th>\n      <th>orders</th>\n      <th>short_term_vol</th>\n      <th>long_term_vol</th>\n      <th>buy_signal</th>\n      <th>sell_signal</th>\n      <th>stock_high</th>\n      <th>stock_median</th>\n      <th>stock_low</th>\n      <th>money</th>\n      <th>total</th>\n    </tr>\n  </thead>\n  <tbody>\n    <tr>\n      <th>0</th>\n      <td>2018-01-02</td>\n      <td>68.67</td>\n      <td>32.56</td>\n      <td>45.15</td>\n      <td>1</td>\n      <td>0</td>\n      <td>32.560000</td>\n      <td>32.560000</td>\n      <td>FALSE</td>\n      <td>FALSE</td>\n      <td>0</td>\n      <td>0</td>\n      <td>0</td>\n      <td>1000000</td>\n      <td>1000000.00</td>\n    </tr>\n    <tr>\n      <th>1</th>\n      <td>2018-01-03</td>\n      <td>68.83</td>\n      <td>32.33</td>\n      <td>45.65</td>\n      <td>1</td>\n      <td>0</td>\n      <td>32.483333</td>\n      <td>32.518182</td>\n      <td>FALSE</td>\n      <td>TRUE</td>\n      <td>0</td>\n      <td>0</td>\n      <td>0</td>\n      <td>1000000</td>\n      <td>1000000.00</td>\n    </tr>\n    <tr>\n      <th>2</th>\n      <td>2018-01-04</td>\n      <td>70.57</td>\n      <td>33.12</td>\n      <td>46.58</td>\n      <td>1</td>\n      <td>1</td>\n      <td>32.695556</td>\n      <td>32.627603</td>\n      <td>TRUE</td>\n      <td>FALSE</td>\n      <td>4251</td>\n      <td>15096</td>\n      <td>4293</td>\n      <td>59</td>\n      <td>999999.53</td>\n    </tr>\n    <tr>\n      <th>3</th>\n      <td>2018-01-05</td>\n      <td>70.32</td>\n      <td>34.76</td>\n      <td>47.88</td>\n      <td>1</td>\n      <td>0</td>\n      <td>33.383704</td>\n      <td>33.015312</td>\n      <td>TRUE</td>\n      <td>FALSE</td>\n      <td>4251</td>\n      <td>15096</td>\n      <td>4293</td>\n      <td>59</td>\n      <td>1029275.12</td>\n    </tr>\n    <tr>\n      <th>4</th>\n      <td>2018-01-08</td>\n      <td>71.26</td>\n      <td>35.99</td>\n      <td>47.83</td>\n      <td>1</td>\n      <td>0</td>\n      <td>34.252469</td>\n      <td>33.556164</td>\n      <td>TRUE</td>\n      <td>FALSE</td>\n      <td>4251</td>\n      <td>15096</td>\n      <td>4293</td>\n      <td>59</td>\n      <td>1051624.49</td>\n    </tr>\n    <tr>\n      <th>...</th>\n      <td>...</td>\n      <td>...</td>\n      <td>...</td>\n      <td>...</td>\n      <td>...</td>\n      <td>...</td>\n      <td>...</td>\n      <td>...</td>\n      <td>...</td>\n      <td>...</td>\n      <td>...</td>\n      <td>...</td>\n      <td>...</td>\n      <td>...</td>\n      <td>...</td>\n    </tr>\n    <tr>\n      <th>777</th>\n      <td>2021-03-25</td>\n      <td>87.23</td>\n      <td>30.55</td>\n      <td>61.38</td>\n      <td>3</td>\n      <td>0</td>\n      <td>31.110795</td>\n      <td>31.392466</td>\n      <td>FALSE</td>\n      <td>TRUE</td>\n      <td>0</td>\n      <td>0</td>\n      <td>0</td>\n      <td>1217086</td>\n      <td>1217086.00</td>\n    </tr>\n    <tr>\n      <th>778</th>\n      <td>2021-03-26</td>\n      <td>91.22</td>\n      <td>30.72</td>\n      <td>61.62</td>\n      <td>3</td>\n      <td>0</td>\n      <td>30.980530</td>\n      <td>31.270200</td>\n      <td>FALSE</td>\n      <td>TRUE</td>\n      <td>0</td>\n      <td>0</td>\n      <td>0</td>\n      <td>1217086</td>\n      <td>1217086.00</td>\n    </tr>\n    <tr>\n      <th>779</th>\n      <td>2021-03-29</td>\n      <td>90.53</td>\n      <td>31.00</td>\n      <td>62.47</td>\n      <td>3</td>\n      <td>0</td>\n      <td>30.987020</td>\n      <td>31.221072</td>\n      <td>FALSE</td>\n      <td>TRUE</td>\n      <td>0</td>\n      <td>0</td>\n      <td>0</td>\n      <td>1217086</td>\n      <td>1217086.00</td>\n    </tr>\n    <tr>\n      <th>780</th>\n      <td>2021-03-30</td>\n      <td>93.60</td>\n      <td>31.37</td>\n      <td>62.10</td>\n      <td>3</td>\n      <td>0</td>\n      <td>31.114680</td>\n      <td>31.248150</td>\n      <td>FALSE</td>\n      <td>TRUE</td>\n      <td>0</td>\n      <td>0</td>\n      <td>0</td>\n      <td>1217086</td>\n      <td>1217086.00</td>\n    </tr>\n    <tr>\n      <th>781</th>\n      <td>2021-03-31</td>\n      <td>92.09</td>\n      <td>30.00</td>\n      <td>62.70</td>\n      <td>3</td>\n      <td>0</td>\n      <td>30.743120</td>\n      <td>31.021214</td>\n      <td>FALSE</td>\n      <td>TRUE</td>\n      <td>0</td>\n      <td>0</td>\n      <td>0</td>\n      <td>1217086</td>\n      <td>1217086.00</td>\n    </tr>\n  </tbody>\n</table>\n<p>782 rows × 15 columns</p>\n</div>"
     },
     "execution_count": 42,
     "metadata": {},
     "output_type": "execute_result"
    }
   ],
   "source": [
    "# 交易策略\n",
    "def strategy(risk: int, wealth: int, information: int) -> int:\n",
    "    \n",
    "    # 新建一个DataFrame,以data的index为index\n",
    "    signal = pd.DataFrame(index=data.index)\n",
    "    signal[['high_risk', 'median_risk', 'low_risk']] = data[['万科A', '恒瑞医药', '格力电器']]\n",
    "\n",
    "    # 将索引日期变为列\n",
    "    signal = signal.reset_index().rename(columns={\"date\": \"date\"})\n",
    "    # 创建空列表month\n",
    "    months = []\n",
    "    for i in range(len(signal)):\n",
    "        # 提取日期中的月份\n",
    "        months.append(str(signal['date'][i].month))\n",
    "    # 创建月份列\n",
    "    signal['month'] = months\n",
    "    \n",
    "    # 初始化订单状态为0\n",
    "    signal['orders'] = 0\n",
    "    # 初始仓位为0\n",
    "    position = 0\n",
    "    \n",
    "    # 投资者获取信息能力弱\n",
    "    if information == 0:\n",
    "        # 设初始买入信号为TRUE，卖出信号为FALSE\n",
    "        signal['buy_signal'] = 'TRUE'\n",
    "        signal['sell_signal'] = 'FALSE'\n",
    "\n",
    "    # 计算短期（5天）和长期（10天）波动率（标准差）\n",
    "        signal['short_term_vol'] = signal['median_risk'].ewm(span=5,adjust=False).mean()\n",
    "        signal['long_term_vol'] = signal['median_risk'].ewm(span=10,adjust=False).mean()\n",
    "\n",
    "        # 生成交易信号\n",
    "        # 买入信号：短期波动率显著高于长期波动率 & 转化成字符串\n",
    "        signal['buy_signal'] = (signal['short_term_vol'] > signal['long_term_vol']).apply(lambda x: \"TRUE\" if x else \"FALSE\")\n",
    "        # 卖出信号：短期波动率显著低于长期波动率 & 转化成字符串\n",
    "        signal['sell_signal'] = (signal['short_term_vol'] < signal['long_term_vol']).apply(lambda x: \"TRUE\" if x else \"FALSE\")\n",
    "\n",
    "        # 奇数行对应买入信号，偶数行对应卖出信号\n",
    "        # for i in range(1, len(signal)):\n",
    "        #     if signal['buy_signal'][i] == signal['buy_signal'][i-1]:\n",
    "        #         signal['buy_signal'][i] = \"FALSE\"\n",
    "        # for i in range(len(signal)-1):\n",
    "        #     if signal['sell_signal'][i] == signal['sell_signal'][i+1]:\n",
    "        #         signal['sell_signal'][i+1] = \"TRUE\"\n",
    "\n",
    "    # 投资者获取信息能力强\n",
    "    elif information == 1:\n",
    "        # 初始买卖信号均为0\n",
    "        signal['buy_signal'] = 'FALSE'\n",
    "        signal['sell_signal'] = 'FALSE'\n",
    "        # 每个月第一天对应买入信号，每个月最后一天对应卖出信号\n",
    "\n",
    "        for i in range(1, len(signal)):\n",
    "            if signal['month'][i] != signal['month'][i-1]:\n",
    "                signal['buy_signal'][i] = 'TRUE'\n",
    "        for i in range(len(signal)-1):\n",
    "            if signal['month'][i] != signal['month'][i+1]:\n",
    "                signal['sell_signal'][i] = 'TRUE'\n",
    "        signal['buy_signal'][0] = 'TRUE'\n",
    "        signal['sell_signal'][len(signal)-1] = 'TRUE'\n",
    "        \n",
    "        \n",
    "    # 遍历数据表\n",
    "    for i in range(len(signal)):\n",
    "        # 当买入信号为True且仓位为0时买入\n",
    "        if signal.buy_signal[i] == 'TRUE' and position == 0:\n",
    "            # 买入指令为1\n",
    "            signal.orders.values[i] = 1\n",
    "            # 仓位加1\n",
    "            position = 1\n",
    "\n",
    "        # 当卖出信号为True且仓位为1时卖出\n",
    "        elif signal.sell_signal[i] == 'TRUE' and position == 1:\n",
    "            # 卖出指令为-1\n",
    "            signal.orders.values[i] = -1\n",
    "            # 仓位清0\n",
    "            position = 0\n",
    "    \n",
    "    # 初始各个股票最大可持仓量为0，交易金额为0，可用资金为wealth\n",
    "    # position_high: how many shares I have bought for high risk stock\n",
    "    # trade_high: how much money I have invested in high risk stock\n",
    "    position_high = 0\n",
    "    position_median = 0\n",
    "    position_low = 0\n",
    "    trade_high = 0\n",
    "    trade_median = 0\n",
    "    trade_low = 0\n",
    "    money = wealth\n",
    "    \n",
    "    # 初始持仓股票手数、可用资金、交易资金\n",
    "    signal['stock_high'] = 0\n",
    "    signal['stock_median'] = 0\n",
    "    signal['stock_low'] = 0\n",
    "    signal['money'] = wealth   \n",
    "            \n",
    "    for i in range(len(signal)):\n",
    "        # 当买卖指令为1时\n",
    "        if signal.orders.values[i] == 1:\n",
    "            # 风险厌恶者：20%high_risk，30%median_risk，50%low_risk\n",
    "            if risk == 0:\n",
    "                position_high = money * 0.2 // (signal.high_risk.values[i])\n",
    "                position_median = money * 0.3 // (signal.median_risk.values[i])\n",
    "                position_low = money * 0.5 // (signal.low_risk.values[i])\n",
    "                trade_high =  - signal.high_risk.values[i]\n",
    "                trade_median =  - signal.median_risk.values[i]\n",
    "                trade_low =  - signal.low_risk.values[i]\n",
    "                money = money + position_high * trade_high + position_median * trade_median + position_low * trade_low\n",
    "            # 风险中立者：20%high_risk，60%median_risk，20%low_risk\n",
    "            if risk == 0.5:\n",
    "                position_high = money * 0.2 // (signal.high_risk.values[i])\n",
    "                position_median = money * 0.6 // (signal.median_risk.values[i])\n",
    "                position_low = money * 0.2 // (signal.low_risk.values[i])\n",
    "                trade_high =  - signal.high_risk.values[i]\n",
    "                trade_median =  - signal.median_risk.values[i]\n",
    "                trade_low =  - signal.low_risk.values[i]\n",
    "                money = money + position_high * trade_high + position_median * trade_median + position_low * trade_low\n",
    "            # 风险偏好者：50%high_risk，30%median_risk，20%low_risk\n",
    "            if risk == 1:\n",
    "                position_high = money * 0.5 // (signal.high_risk.values[i])\n",
    "                position_median = money * 0.3 // (signal.median_risk.values[i])\n",
    "                position_low = money * 0.2 // (signal.low_risk.values[i])\n",
    "                trade_high =  - signal.high_risk.values[i]\n",
    "                trade_median =  - signal.median_risk.values[i]\n",
    "                trade_low =  - signal.low_risk.values[i]\n",
    "                money = money + position_high * trade_high + position_median * trade_median + position_low * trade_low        \n",
    "        # 当买卖指令为-1时\n",
    "        elif signal.orders.values[i] == -1:\n",
    "            money = money + position_high * signal.high_risk.values[i] + position_median * signal.median_risk.values[i] + position_low * signal.low_risk.values[i]\n",
    "            position_high = 0\n",
    "            position_median = 0\n",
    "            position_low = 0\n",
    "            \n",
    "        # 持仓数、可用资金\n",
    "        signal['stock_high'].values[i] = position_high\n",
    "        signal['stock_median'].values[i] = position_median\n",
    "        signal['stock_low'].values[i] = position_low\n",
    "        signal['money'].values[i] = money\n",
    " \n",
    "    # 账户资产总额\n",
    "    signal['total'] = (signal['stock_high'] * signal['high_risk'] + signal['stock_median'] * signal['median_risk'] + signal['stock_low'] * signal['low_risk']) + signal['money']\n",
    " \n",
    "    return signal"
   ]
  },
  {
   "cell_type": "code",
   "execution_count": 43,
   "id": "fe1d716b",
   "metadata": {},
   "outputs": [
    {
     "name": "stderr",
     "output_type": "stream",
     "text": [
      "/var/folders/rf/w1c5pmc51gvg00xtlws6z9nh0000gn/T/ipykernel_17107/1393818674.py:171: DeprecationWarning: Conversion of an array with ndim > 0 to a scalar is deprecated, and will error in future. Ensure you extract a single element from your array before performing this operation. (Deprecated NumPy 1.25.)\n",
      "  signal['stock_high'].values[i] = position_high\n",
      "/var/folders/rf/w1c5pmc51gvg00xtlws6z9nh0000gn/T/ipykernel_17107/1393818674.py:172: DeprecationWarning: Conversion of an array with ndim > 0 to a scalar is deprecated, and will error in future. Ensure you extract a single element from your array before performing this operation. (Deprecated NumPy 1.25.)\n",
      "  signal['stock_median'].values[i] = position_median\n",
      "/var/folders/rf/w1c5pmc51gvg00xtlws6z9nh0000gn/T/ipykernel_17107/1393818674.py:173: DeprecationWarning: Conversion of an array with ndim > 0 to a scalar is deprecated, and will error in future. Ensure you extract a single element from your array before performing this operation. (Deprecated NumPy 1.25.)\n",
      "  signal['stock_low'].values[i] = position_low\n",
      "/var/folders/rf/w1c5pmc51gvg00xtlws6z9nh0000gn/T/ipykernel_17107/1393818674.py:174: DeprecationWarning: Conversion of an array with ndim > 0 to a scalar is deprecated, and will error in future. Ensure you extract a single element from your array before performing this operation. (Deprecated NumPy 1.25.)\n",
      "  signal['money'].values[i] = money\n",
      "/var/folders/rf/w1c5pmc51gvg00xtlws6z9nh0000gn/T/ipykernel_17107/1393818674.py:171: DeprecationWarning: Conversion of an array with ndim > 0 to a scalar is deprecated, and will error in future. Ensure you extract a single element from your array before performing this operation. (Deprecated NumPy 1.25.)\n",
      "  signal['stock_high'].values[i] = position_high\n",
      "/var/folders/rf/w1c5pmc51gvg00xtlws6z9nh0000gn/T/ipykernel_17107/1393818674.py:172: DeprecationWarning: Conversion of an array with ndim > 0 to a scalar is deprecated, and will error in future. Ensure you extract a single element from your array before performing this operation. (Deprecated NumPy 1.25.)\n",
      "  signal['stock_median'].values[i] = position_median\n",
      "/var/folders/rf/w1c5pmc51gvg00xtlws6z9nh0000gn/T/ipykernel_17107/1393818674.py:173: DeprecationWarning: Conversion of an array with ndim > 0 to a scalar is deprecated, and will error in future. Ensure you extract a single element from your array before performing this operation. (Deprecated NumPy 1.25.)\n",
      "  signal['stock_low'].values[i] = position_low\n",
      "/var/folders/rf/w1c5pmc51gvg00xtlws6z9nh0000gn/T/ipykernel_17107/1393818674.py:174: DeprecationWarning: Conversion of an array with ndim > 0 to a scalar is deprecated, and will error in future. Ensure you extract a single element from your array before performing this operation. (Deprecated NumPy 1.25.)\n",
      "  signal['money'].values[i] = money\n",
      "/var/folders/rf/w1c5pmc51gvg00xtlws6z9nh0000gn/T/ipykernel_17107/1393818674.py:171: DeprecationWarning: Conversion of an array with ndim > 0 to a scalar is deprecated, and will error in future. Ensure you extract a single element from your array before performing this operation. (Deprecated NumPy 1.25.)\n",
      "  signal['stock_high'].values[i] = position_high\n",
      "/var/folders/rf/w1c5pmc51gvg00xtlws6z9nh0000gn/T/ipykernel_17107/1393818674.py:172: DeprecationWarning: Conversion of an array with ndim > 0 to a scalar is deprecated, and will error in future. Ensure you extract a single element from your array before performing this operation. (Deprecated NumPy 1.25.)\n",
      "  signal['stock_median'].values[i] = position_median\n",
      "/var/folders/rf/w1c5pmc51gvg00xtlws6z9nh0000gn/T/ipykernel_17107/1393818674.py:173: DeprecationWarning: Conversion of an array with ndim > 0 to a scalar is deprecated, and will error in future. Ensure you extract a single element from your array before performing this operation. (Deprecated NumPy 1.25.)\n",
      "  signal['stock_low'].values[i] = position_low\n",
      "/var/folders/rf/w1c5pmc51gvg00xtlws6z9nh0000gn/T/ipykernel_17107/1393818674.py:174: DeprecationWarning: Conversion of an array with ndim > 0 to a scalar is deprecated, and will error in future. Ensure you extract a single element from your array before performing this operation. (Deprecated NumPy 1.25.)\n",
      "  signal['money'].values[i] = money\n",
      "/var/folders/rf/w1c5pmc51gvg00xtlws6z9nh0000gn/T/ipykernel_17107/1393818674.py:171: DeprecationWarning: Conversion of an array with ndim > 0 to a scalar is deprecated, and will error in future. Ensure you extract a single element from your array before performing this operation. (Deprecated NumPy 1.25.)\n",
      "  signal['stock_high'].values[i] = position_high\n",
      "/var/folders/rf/w1c5pmc51gvg00xtlws6z9nh0000gn/T/ipykernel_17107/1393818674.py:172: DeprecationWarning: Conversion of an array with ndim > 0 to a scalar is deprecated, and will error in future. Ensure you extract a single element from your array before performing this operation. (Deprecated NumPy 1.25.)\n",
      "  signal['stock_median'].values[i] = position_median\n",
      "/var/folders/rf/w1c5pmc51gvg00xtlws6z9nh0000gn/T/ipykernel_17107/1393818674.py:173: DeprecationWarning: Conversion of an array with ndim > 0 to a scalar is deprecated, and will error in future. Ensure you extract a single element from your array before performing this operation. (Deprecated NumPy 1.25.)\n",
      "  signal['stock_low'].values[i] = position_low\n",
      "/var/folders/rf/w1c5pmc51gvg00xtlws6z9nh0000gn/T/ipykernel_17107/1393818674.py:174: DeprecationWarning: Conversion of an array with ndim > 0 to a scalar is deprecated, and will error in future. Ensure you extract a single element from your array before performing this operation. (Deprecated NumPy 1.25.)\n",
      "  signal['money'].values[i] = money\n",
      "/var/folders/rf/w1c5pmc51gvg00xtlws6z9nh0000gn/T/ipykernel_17107/1393818674.py:171: DeprecationWarning: Conversion of an array with ndim > 0 to a scalar is deprecated, and will error in future. Ensure you extract a single element from your array before performing this operation. (Deprecated NumPy 1.25.)\n",
      "  signal['stock_high'].values[i] = position_high\n",
      "/var/folders/rf/w1c5pmc51gvg00xtlws6z9nh0000gn/T/ipykernel_17107/1393818674.py:172: DeprecationWarning: Conversion of an array with ndim > 0 to a scalar is deprecated, and will error in future. Ensure you extract a single element from your array before performing this operation. (Deprecated NumPy 1.25.)\n",
      "  signal['stock_median'].values[i] = position_median\n",
      "/var/folders/rf/w1c5pmc51gvg00xtlws6z9nh0000gn/T/ipykernel_17107/1393818674.py:173: DeprecationWarning: Conversion of an array with ndim > 0 to a scalar is deprecated, and will error in future. Ensure you extract a single element from your array before performing this operation. (Deprecated NumPy 1.25.)\n",
      "  signal['stock_low'].values[i] = position_low\n",
      "/var/folders/rf/w1c5pmc51gvg00xtlws6z9nh0000gn/T/ipykernel_17107/1393818674.py:174: DeprecationWarning: Conversion of an array with ndim > 0 to a scalar is deprecated, and will error in future. Ensure you extract a single element from your array before performing this operation. (Deprecated NumPy 1.25.)\n",
      "  signal['money'].values[i] = money\n",
      "/var/folders/rf/w1c5pmc51gvg00xtlws6z9nh0000gn/T/ipykernel_17107/1393818674.py:171: DeprecationWarning: Conversion of an array with ndim > 0 to a scalar is deprecated, and will error in future. Ensure you extract a single element from your array before performing this operation. (Deprecated NumPy 1.25.)\n",
      "  signal['stock_high'].values[i] = position_high\n",
      "/var/folders/rf/w1c5pmc51gvg00xtlws6z9nh0000gn/T/ipykernel_17107/1393818674.py:172: DeprecationWarning: Conversion of an array with ndim > 0 to a scalar is deprecated, and will error in future. Ensure you extract a single element from your array before performing this operation. (Deprecated NumPy 1.25.)\n",
      "  signal['stock_median'].values[i] = position_median\n",
      "/var/folders/rf/w1c5pmc51gvg00xtlws6z9nh0000gn/T/ipykernel_17107/1393818674.py:173: DeprecationWarning: Conversion of an array with ndim > 0 to a scalar is deprecated, and will error in future. Ensure you extract a single element from your array before performing this operation. (Deprecated NumPy 1.25.)\n",
      "  signal['stock_low'].values[i] = position_low\n",
      "/var/folders/rf/w1c5pmc51gvg00xtlws6z9nh0000gn/T/ipykernel_17107/1393818674.py:174: DeprecationWarning: Conversion of an array with ndim > 0 to a scalar is deprecated, and will error in future. Ensure you extract a single element from your array before performing this operation. (Deprecated NumPy 1.25.)\n",
      "  signal['money'].values[i] = money\n",
      "/var/folders/rf/w1c5pmc51gvg00xtlws6z9nh0000gn/T/ipykernel_17107/1393818674.py:171: DeprecationWarning: Conversion of an array with ndim > 0 to a scalar is deprecated, and will error in future. Ensure you extract a single element from your array before performing this operation. (Deprecated NumPy 1.25.)\n",
      "  signal['stock_high'].values[i] = position_high\n",
      "/var/folders/rf/w1c5pmc51gvg00xtlws6z9nh0000gn/T/ipykernel_17107/1393818674.py:172: DeprecationWarning: Conversion of an array with ndim > 0 to a scalar is deprecated, and will error in future. Ensure you extract a single element from your array before performing this operation. (Deprecated NumPy 1.25.)\n",
      "  signal['stock_median'].values[i] = position_median\n",
      "/var/folders/rf/w1c5pmc51gvg00xtlws6z9nh0000gn/T/ipykernel_17107/1393818674.py:173: DeprecationWarning: Conversion of an array with ndim > 0 to a scalar is deprecated, and will error in future. Ensure you extract a single element from your array before performing this operation. (Deprecated NumPy 1.25.)\n",
      "  signal['stock_low'].values[i] = position_low\n",
      "/var/folders/rf/w1c5pmc51gvg00xtlws6z9nh0000gn/T/ipykernel_17107/1393818674.py:174: DeprecationWarning: Conversion of an array with ndim > 0 to a scalar is deprecated, and will error in future. Ensure you extract a single element from your array before performing this operation. (Deprecated NumPy 1.25.)\n",
      "  signal['money'].values[i] = money\n",
      "/var/folders/rf/w1c5pmc51gvg00xtlws6z9nh0000gn/T/ipykernel_17107/1393818674.py:171: DeprecationWarning: Conversion of an array with ndim > 0 to a scalar is deprecated, and will error in future. Ensure you extract a single element from your array before performing this operation. (Deprecated NumPy 1.25.)\n",
      "  signal['stock_high'].values[i] = position_high\n",
      "/var/folders/rf/w1c5pmc51gvg00xtlws6z9nh0000gn/T/ipykernel_17107/1393818674.py:172: DeprecationWarning: Conversion of an array with ndim > 0 to a scalar is deprecated, and will error in future. Ensure you extract a single element from your array before performing this operation. (Deprecated NumPy 1.25.)\n",
      "  signal['stock_median'].values[i] = position_median\n",
      "/var/folders/rf/w1c5pmc51gvg00xtlws6z9nh0000gn/T/ipykernel_17107/1393818674.py:173: DeprecationWarning: Conversion of an array with ndim > 0 to a scalar is deprecated, and will error in future. Ensure you extract a single element from your array before performing this operation. (Deprecated NumPy 1.25.)\n",
      "  signal['stock_low'].values[i] = position_low\n",
      "/var/folders/rf/w1c5pmc51gvg00xtlws6z9nh0000gn/T/ipykernel_17107/1393818674.py:174: DeprecationWarning: Conversion of an array with ndim > 0 to a scalar is deprecated, and will error in future. Ensure you extract a single element from your array before performing this operation. (Deprecated NumPy 1.25.)\n",
      "  signal['money'].values[i] = money\n",
      "/var/folders/rf/w1c5pmc51gvg00xtlws6z9nh0000gn/T/ipykernel_17107/1393818674.py:171: DeprecationWarning: Conversion of an array with ndim > 0 to a scalar is deprecated, and will error in future. Ensure you extract a single element from your array before performing this operation. (Deprecated NumPy 1.25.)\n",
      "  signal['stock_high'].values[i] = position_high\n",
      "/var/folders/rf/w1c5pmc51gvg00xtlws6z9nh0000gn/T/ipykernel_17107/1393818674.py:172: DeprecationWarning: Conversion of an array with ndim > 0 to a scalar is deprecated, and will error in future. Ensure you extract a single element from your array before performing this operation. (Deprecated NumPy 1.25.)\n",
      "  signal['stock_median'].values[i] = position_median\n",
      "/var/folders/rf/w1c5pmc51gvg00xtlws6z9nh0000gn/T/ipykernel_17107/1393818674.py:173: DeprecationWarning: Conversion of an array with ndim > 0 to a scalar is deprecated, and will error in future. Ensure you extract a single element from your array before performing this operation. (Deprecated NumPy 1.25.)\n",
      "  signal['stock_low'].values[i] = position_low\n",
      "/var/folders/rf/w1c5pmc51gvg00xtlws6z9nh0000gn/T/ipykernel_17107/1393818674.py:174: DeprecationWarning: Conversion of an array with ndim > 0 to a scalar is deprecated, and will error in future. Ensure you extract a single element from your array before performing this operation. (Deprecated NumPy 1.25.)\n",
      "  signal['money'].values[i] = money\n"
     ]
    }
   ],
   "source": [
    "# 每月月末各投资者财富总量\n",
    "Jan = []\n",
    "Feb = []\n",
    "Mar = []\n",
    "Apr = []\n",
    "May = []\n",
    "Jun = []\n",
    "Jul = []\n",
    "Aug = []\n",
    "Sep = []\n",
    "Oct = []\n",
    "Nov = []\n",
    "Dec = []\n",
    "\n",
    "for i in range(len(investor)):\n",
    "    wealth_sum = strategy(investor['risk'][i], investor['wealth'][i], investor['information'][i])\n",
    "    for j in range(len(wealth_sum)-1):\n",
    "\n",
    "        if wealth_sum['month'][j] == '1' and wealth_sum['month'][j+1] == '2':\n",
    "            Jan.append(wealth_sum['total'].tolist()[j])\n",
    "        elif wealth_sum['month'][j] == '2' and wealth_sum['month'][j+1] == '3':\n",
    "            Feb.append(wealth_sum['total'].tolist()[j])\n",
    "        elif wealth_sum['month'][j] == '3' and wealth_sum['month'][j+1] == '4':\n",
    "            Mar.append(wealth_sum['total'].tolist()[j])\n",
    "        elif wealth_sum['month'][j] == '4' and wealth_sum['month'][j+1] == '5':\n",
    "            Apr.append(wealth_sum['total'].tolist()[j])\n",
    "        elif wealth_sum['month'][j] == '5' and wealth_sum['month'][j+1] == '6':\n",
    "            May.append(wealth_sum['total'].tolist()[j])\n",
    "        elif wealth_sum['month'][j] == '6' and wealth_sum['month'][j+1] == '7':\n",
    "            Jun.append(wealth_sum['total'].tolist()[j])\n",
    "        elif wealth_sum['month'][j] == '7' and wealth_sum['month'][j+1] == '8':\n",
    "            Jul.append(wealth_sum['total'].tolist()[j])\n",
    "        elif wealth_sum['month'][j] == '8' and wealth_sum['month'][j+1] == '9':\n",
    "            Aug.append(wealth_sum['total'].tolist()[j])\n",
    "        elif wealth_sum['month'][j] == '9' and wealth_sum['month'][j+1] == '10':\n",
    "            Sep.append(wealth_sum['total'].tolist()[j])\n",
    "        elif wealth_sum['month'][j] == '10' and wealth_sum['month'][j+1] == '11':\n",
    "            Oct.append(wealth_sum['total'].tolist()[j])\n",
    "        elif wealth_sum['month'][j] == '11' and wealth_sum['month'][j+1] == '12':\n",
    "            Nov.append(wealth_sum['total'].tolist()[j])\n",
    "        Dec.append(wealth_sum['total'].tolist()[len(wealth_sum)-1])"
   ]
  },
  {
   "cell_type": "code",
   "execution_count": 44,
   "outputs": [
    {
     "data": {
      "text/plain": "[0.6841850682127787,\n 0.6826928968818208,\n 0.6838316474328742,\n 0.6857204864412163,\n 0.6852471842588319,\n 0.6846450017198474,\n 0.6846725504473987,\n 0.6851551209098267,\n 0.6858150444334324,\n 0.6862618926091713,\n 0.6851971251797578,\n 0.6806052828407493]"
     },
     "execution_count": 44,
     "metadata": {},
     "output_type": "execute_result"
    }
   ],
   "source": [
    "Jan"
   ],
   "metadata": {
    "collapsed": false
   },
   "id": "bff3bca9bc7341ec"
  },
  {
   "cell_type": "code",
   "execution_count": 45,
   "id": "02bfa816",
   "metadata": {},
   "outputs": [
    {
     "data": {
      "text/plain": "<Figure size 1200x600 with 1 Axes>",
      "image/png": "[encoded data removed]"
     },
     "metadata": {},
     "output_type": "display_data"
    }
   ],
   "source": [
    "# 测算基尼系数\n",
    "def gini_index(wealth_list: list[float]) -> float:\n",
    "\n",
    "    arr = sorted(wealth_list)\n",
    "    length = len(arr)\n",
    "    div = 2 * length * sum(arr)\n",
    "    \n",
    "    total = 0\n",
    "    for i in range(length):\n",
    "        for j in range(length):\n",
    "            total += abs(arr[i] - arr[j])\n",
    "            \n",
    "    return total / div\n",
    "\n",
    "gini = [gini_index(Jan), gini_index(Feb), gini_index(Mar), gini_index(Apr), gini_index(May), gini_index(Jun), gini_index(Jul), gini_index(Aug), gini_index(Sep), gini_index(Oct), gini_index(Nov), gini_index(Dec)]\n",
    "gini"
   ]
  },
  {
   "cell_type": "code",
   "execution_count": 37,
   "id": "2c0061ff",
   "metadata": {},
   "outputs": [
    {
     "data": {
      "text/plain": "<Figure size 1200x600 with 1 Axes>",
      "image/png": "[encoded data removed]"
     },
     "metadata": {},
     "output_type": "display_data"
    }
   ],
   "source": [
    "# 绘制每年基尼系数折线图\n",
    "\n",
    "#设置画布大小\n",
    "plt.figure(figsize=(12, 6))\n",
    "\n",
    "# 正确显示中文和负号\n",
    "plt.rcParams[\"font.sans-serif\"] = [\"SimHei\"]\n",
    "plt.rcParams[\"axes.unicode_minus\"] = False\n",
    "\n",
    "# 画图，plt.bar()可以画柱状图\n",
    "plt.plot(np.arange(1, 13).tolist(), gini)\n",
    "\n",
    "# 设置图表名称\n",
    "plt.title(\"Gini Index\")\n",
    "# 设置x轴标签名\n",
    "plt.xlabel(\"Year\")\n",
    "# 设置y轴标签名\n",
    "plt.ylabel(\"Gini\")\n",
    "# 显示\n",
    "plt.show()"
   ]
  },
  {
   "cell_type": "code",
   "execution_count": 29,
   "outputs": [
    {
     "data": {
      "text/plain": "1"
     },
     "execution_count": 29,
     "metadata": {},
     "output_type": "execute_result"
    }
   ],
   "source": [
    "1"
   ],
   "metadata": {
    "collapsed": false
   },
   "id": "6015a2bbe7a100"
  },
  {
   "cell_type": "code",
   "execution_count": null,
   "outputs": [],
   "source": [],
   "metadata": {
    "collapsed": false,
    "pycharm": {
     "is_executing": true
    }
   },
   "id": "c02e227d8be1cda9"
  },
  {
   "cell_type": "code",
   "execution_count": null,
   "outputs": [],
   "source": [],
   "metadata": {
    "collapsed": false,
    "pycharm": {
     "is_executing": true
    }
   },
   "id": "e708d9a10cbe2bf5"
  },
  {
   "cell_type": "code",
   "execution_count": null,
   "outputs": [],
   "source": [],
   "metadata": {
    "collapsed": false,
    "pycharm": {
     "is_executing": true
    }
   },
   "id": "e9e47fa4ffa43be2"
  },
  {
   "cell_type": "code",
   "execution_count": null,
   "outputs": [],
   "source": [],
   "metadata": {
    "collapsed": false,
    "pycharm": {
     "is_executing": true
    }
   },
   "id": "fd96a1887cf58578"
  },
  {
   "cell_type": "code",
   "execution_count": 30,
   "outputs": [],
   "source": [],
   "metadata": {
    "collapsed": false
   },
   "id": "b3ba5c368764cbfb"
  }
 ],
 "metadata": {
  "kernelspec": {
   "display_name": "Python 3 (ipykernel)",
   "language": "python",
   "name": "python3"
  },
  "language_info": {
   "codemirror_mode": {
    "name": "ipython",
    "version": 3
   },
   "file_extension": ".py",
   "mimetype": "text/x-python",
   "name": "python",
   "nbconvert_exporter": "python",
   "pygments_lexer": "ipython3",
   "version": "3.9.7"
  }
 },
 "nbformat": 4,
 "nbformat_minor": 5
}
