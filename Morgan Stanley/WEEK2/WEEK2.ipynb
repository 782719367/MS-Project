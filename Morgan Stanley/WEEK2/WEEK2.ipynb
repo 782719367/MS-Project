{
 "cells": [
  {
   "cell_type": "code",
   "execution_count": 51,
   "metadata": {
    "collapsed": true
   },
   "outputs": [],
   "source": [
    "import numpy as np\n",
    "import pandas as pd\n",
    "from scipy.optimize import minimize\n",
    "from scipy import linalg\n",
    "import seaborn as sns\n",
    "\n",
    "#reference: https://github.com/yishantao/Black-Litterman/blob/master/black_litterman.py\n",
    "def blacklitterman(returns, tau, P, Q):\n",
    "    \"\"\"计算加入主观观点后的后验分布之期望值、协方差\"\"\"\n",
    "    mu = returns.mean()  #\n",
    "    sigma = returns.cov()\n",
    "    pi1 = mu\n",
    "    ts = tau * sigma\n",
    "    Omega = np.dot(np.dot(P, ts), P.T) * np.eye(Q.shape[0])\n",
    "    middle = linalg.inv(np.dot(np.dot(P, ts), P.T) + Omega)\n",
    "    er = np.expand_dims(pi1, axis=0).T + np.dot(np.dot(np.dot(ts, P.T), middle),\n",
    "                                                (Q - np.expand_dims(np.dot(P, pi1.T), axis=1)))\n",
    "    posteriorSigma = sigma + ts - np.dot(ts.dot(P.T).dot(middle).dot(P), ts)\n",
    "    return [er, posteriorSigma]\n",
    "\n",
    "\n",
    "def blminVar(posteriorSigma):\n",
    "    num_assets = len(posteriorSigma)\n",
    "\n",
    "    def portfolio_variance(w):\n",
    "        w = np.array(w)\n",
    "        vola_w = np.sqrt(np.dot(w.T, np.dot(posteriorSigma * 252, w)))\n",
    "        return vola_w\n",
    "\n",
    "    initial_guess = np.ones(num_assets) / num_assets\n",
    "\n",
    "    # 约束条件（资产权重和为1）\n",
    "    constraints = ({'type': 'eq', 'fun': lambda x: np.sum(x) - 1})\n",
    "\n",
    "    bounds = tuple((0, 1) for asset in range(num_assets))\n",
    "\n",
    "    result = minimize(portfolio_variance, initial_guess,\n",
    "                      method='SLSQP', bounds=bounds, constraints=constraints)\n",
    "\n",
    "    return result.x\n"
   ]
  },
  {
   "cell_type": "code",
   "execution_count": 52,
   "outputs": [
    {
     "data": {
      "text/plain": "                平安银行      贵州茅台       万科A      工商银行      中国石油\ntrade_date                                                  \n2015-01-06 -0.014981 -0.023158 -0.036888  0.007905 -0.016821\n2015-01-07 -0.019011 -0.024718 -0.009053 -0.011765  0.059880\n2015-01-08 -0.033592 -0.006116 -0.044975 -0.041667 -0.014528\n2015-01-09  0.008021 -0.007562 -0.010302  0.010352 -0.011466\n2015-01-12 -0.020557 -0.020388 -0.024535 -0.012295 -0.037283",
      "text/html": "<div>\n<style scoped>\n    .dataframe tbody tr th:only-of-type {\n        vertical-align: middle;\n    }\n\n    .dataframe tbody tr th {\n        vertical-align: top;\n    }\n\n    .dataframe thead th {\n        text-align: right;\n    }\n</style>\n<table border=\"1\" class=\"dataframe\">\n  <thead>\n    <tr style=\"text-align: right;\">\n      <th></th>\n      <th>平安银行</th>\n      <th>贵州茅台</th>\n      <th>万科A</th>\n      <th>工商银行</th>\n      <th>中国石油</th>\n    </tr>\n    <tr>\n      <th>trade_date</th>\n      <th></th>\n      <th></th>\n      <th></th>\n      <th></th>\n      <th></th>\n    </tr>\n  </thead>\n  <tbody>\n    <tr>\n      <th>2015-01-06</th>\n      <td>-0.014981</td>\n      <td>-0.023158</td>\n      <td>-0.036888</td>\n      <td>0.007905</td>\n      <td>-0.016821</td>\n    </tr>\n    <tr>\n      <th>2015-01-07</th>\n      <td>-0.019011</td>\n      <td>-0.024718</td>\n      <td>-0.009053</td>\n      <td>-0.011765</td>\n      <td>0.059880</td>\n    </tr>\n    <tr>\n      <th>2015-01-08</th>\n      <td>-0.033592</td>\n      <td>-0.006116</td>\n      <td>-0.044975</td>\n      <td>-0.041667</td>\n      <td>-0.014528</td>\n    </tr>\n    <tr>\n      <th>2015-01-09</th>\n      <td>0.008021</td>\n      <td>-0.007562</td>\n      <td>-0.010302</td>\n      <td>0.010352</td>\n      <td>-0.011466</td>\n    </tr>\n    <tr>\n      <th>2015-01-12</th>\n      <td>-0.020557</td>\n      <td>-0.020388</td>\n      <td>-0.024535</td>\n      <td>-0.012295</td>\n      <td>-0.037283</td>\n    </tr>\n  </tbody>\n</table>\n</div>"
     },
     "execution_count": 52,
     "metadata": {},
     "output_type": "execute_result"
    }
   ],
   "source": [
    "ret = pd.read_csv(\"ret.csv\",index_col = 0)\n",
    "ret.head()"
   ],
   "metadata": {
    "collapsed": false
   }
  },
  {
   "cell_type": "code",
   "execution_count": 53,
   "outputs": [
    {
     "data": {
      "text/plain": "              平安银行         贵州茅台          万科A         工商银行         中国石油\ncount  2005.000000  2005.000000  2005.000000  2005.000000  2005.000000\nmean      0.000116     0.001301     0.000308     0.000026    -0.000199\nstd       0.021779     0.020302     0.024478     0.013306     0.017226\nmin      -0.179119    -0.100000    -0.100045    -0.099029    -0.099895\n25%      -0.010745    -0.009491    -0.011972    -0.005639    -0.007194\n50%      -0.000581     0.000148     0.000000     0.000000     0.000000\n75%       0.009790     0.012081     0.009619     0.005300     0.006502\nmax       0.100351     0.100000     0.100199     0.100000     0.100081",
      "text/html": "<div>\n<style scoped>\n    .dataframe tbody tr th:only-of-type {\n        vertical-align: middle;\n    }\n\n    .dataframe tbody tr th {\n        vertical-align: top;\n    }\n\n    .dataframe thead th {\n        text-align: right;\n    }\n</style>\n<table border=\"1\" class=\"dataframe\">\n  <thead>\n    <tr style=\"text-align: right;\">\n      <th></th>\n      <th>平安银行</th>\n      <th>贵州茅台</th>\n      <th>万科A</th>\n      <th>工商银行</th>\n      <th>中国石油</th>\n    </tr>\n  </thead>\n  <tbody>\n    <tr>\n      <th>count</th>\n      <td>2005.000000</td>\n      <td>2005.000000</td>\n      <td>2005.000000</td>\n      <td>2005.000000</td>\n      <td>2005.000000</td>\n    </tr>\n    <tr>\n      <th>mean</th>\n      <td>0.000116</td>\n      <td>0.001301</td>\n      <td>0.000308</td>\n      <td>0.000026</td>\n      <td>-0.000199</td>\n    </tr>\n    <tr>\n      <th>std</th>\n      <td>0.021779</td>\n      <td>0.020302</td>\n      <td>0.024478</td>\n      <td>0.013306</td>\n      <td>0.017226</td>\n    </tr>\n    <tr>\n      <th>min</th>\n      <td>-0.179119</td>\n      <td>-0.100000</td>\n      <td>-0.100045</td>\n      <td>-0.099029</td>\n      <td>-0.099895</td>\n    </tr>\n    <tr>\n      <th>25%</th>\n      <td>-0.010745</td>\n      <td>-0.009491</td>\n      <td>-0.011972</td>\n      <td>-0.005639</td>\n      <td>-0.007194</td>\n    </tr>\n    <tr>\n      <th>50%</th>\n      <td>-0.000581</td>\n      <td>0.000148</td>\n      <td>0.000000</td>\n      <td>0.000000</td>\n      <td>0.000000</td>\n    </tr>\n    <tr>\n      <th>75%</th>\n      <td>0.009790</td>\n      <td>0.012081</td>\n      <td>0.009619</td>\n      <td>0.005300</td>\n      <td>0.006502</td>\n    </tr>\n    <tr>\n      <th>max</th>\n      <td>0.100351</td>\n      <td>0.100000</td>\n      <td>0.100199</td>\n      <td>0.100000</td>\n      <td>0.100081</td>\n    </tr>\n  </tbody>\n</table>\n</div>"
     },
     "execution_count": 53,
     "metadata": {},
     "output_type": "execute_result"
    }
   ],
   "source": [
    "ret.describe()"
   ],
   "metadata": {
    "collapsed": false
   }
  },
  {
   "cell_type": "code",
   "execution_count": 54,
   "outputs": [
    {
     "name": "stdout",
     "output_type": "stream",
     "text": [
      "后验均值:\n",
      " [[0.02865816]\n",
      " [0.02060627]\n",
      " [0.01763077]\n",
      " [0.01128923]\n",
      " [0.01429064]]\n",
      "后验预期回报方差:\n",
      "           平安银行      贵州茅台       万科A      工商银行      中国石油\n",
      "平安银行  0.000485  0.000188  0.000262  0.000166  0.000156\n",
      "贵州茅台  0.000188  0.000422  0.000142  0.000085  0.000082\n",
      "万科A   0.000262  0.000142  0.000625  0.000130  0.000136\n",
      "工商银行  0.000166  0.000085  0.000130  0.000184  0.000109\n",
      "中国石油  0.000156  0.000082  0.000136  0.000109  0.000304\n",
      "最优资产配置权重:[ 0.   18.38  2.77 56.77 22.08]%\n"
     ]
    }
   ],
   "source": [
    "tau = 0.05\n",
    "\"\"\"\n",
    "平安银行将在未来表现好于其他股票\n",
    "贵州茅台由于其稳定的增长和市场地位，预计将继续表现出色；但考虑它已经很稳定了，其表现会略低于平安银行\n",
    "万科A和工商银行预计跟随市场平均水平\n",
    "中国石油根据平均收益率-0.000199，可能会低于市场平均水平\n",
    "\"\"\"\n",
    "P = np.array(\n",
    "    [[1,0,0,0,0],\n",
    "     [0,1,0,0,0],\n",
    "     [0,0,0,0,-1]\n",
    "    ]\n",
    ")\n",
    "\"\"\"平安银行的预期超额回报为5%（0.05）\n",
    "贵州茅台的预期超额回报为3%（0.03）\n",
    "中国石油的预期超额回报为-2%（-0.02）\"\"\"\n",
    "Q = np.array([0.05, 0.03, -0.02]).reshape(-1, 1)\n",
    "\n",
    "posteriorSigma = blacklitterman(ret, tau, P, Q)\n",
    "print(\"后验均值:\\n\", posteriorSigma[0])\n",
    "\n",
    "# 计算后验预期回报的方差\n",
    "print(\"后验预期回报方差:\\n\", posteriorSigma[1])\n",
    "\n",
    "# 使用blminVar函数求解最小方差投资组合\n",
    "optimal_weights = blminVar(posteriorSigma[1])\n",
    "\n",
    "print(\"最优资产配置权重:{}%\".format(np.round(optimal_weights*100,2)))"
   ],
   "metadata": {
    "collapsed": false
   }
  },
  {
   "cell_type": "code",
   "execution_count": null,
   "outputs": [],
   "source": [],
   "metadata": {
    "collapsed": false
   }
  }
 ],
 "metadata": {
  "kernelspec": {
   "display_name": "Python 3",
   "language": "python",
   "name": "python3"
  },
  "language_info": {
   "codemirror_mode": {
    "name": "ipython",
    "version": 2
   },
   "file_extension": ".py",
   "mimetype": "text/x-python",
   "name": "python",
   "nbconvert_exporter": "python",
   "pygments_lexer": "ipython2",
   "version": "2.7.6"
  }
 },
 "nbformat": 4,
 "nbformat_minor": 0
}
